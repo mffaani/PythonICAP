{
 "cells": [
  {
   "cell_type": "markdown",
   "id": "793b0536",
   "metadata": {},
   "source": [
    "# Function\n",
    "-to avoid repitition of steps in any procedure or any set of statements\n",
    "-some functions require certain parameters to execute\n",
    "-there are essential parameters and optional/additional parameters\n",
    "-A function is a block of code executed when it is needed\n",
    "-It reduces no. of lines in a code\n",
    "-It procides a readable interface of the program\n"
   ]
  },
  {
   "cell_type": "markdown",
   "id": "a89c7d2d",
   "metadata": {},
   "source": [
    "#generative function remembers its last value\n",
    "#recursive function can recall itself in its body"
   ]
  },
  {
   "cell_type": "markdown",
   "id": "ac61279f",
   "metadata": {},
   "source": [
    "#Functions may be divided into return functions and non return functions"
   ]
  },
  {
   "cell_type": "markdown",
   "id": "7f66eb37",
   "metadata": {},
   "source": [
    "#Return Function's value can be assigned in a variable"
   ]
  },
  {
   "cell_type": "markdown",
   "id": "91af4f3c",
   "metadata": {},
   "source": [
    "# Steps of function\n",
    "1. Declaration/Signature - naming of function\n",
    "2. Call - Calling of function, performance, execution\n",
    "3. Result - "
   ]
  },
  {
   "cell_type": "code",
   "execution_count": 7,
   "id": "ab2aea2e",
   "metadata": {},
   "outputs": [],
   "source": [
    "#Declaration\n",
    "def add_two_nums():\n",
    "    #local variables\n",
    "    a=19\n",
    "    b=20\n",
    "    res = a+b\n",
    "    print(res)"
   ]
  },
  {
   "cell_type": "code",
   "execution_count": 8,
   "id": "dcd12b66",
   "metadata": {},
   "outputs": [
    {
     "name": "stdout",
     "output_type": "stream",
     "text": [
      "39\n"
     ]
    }
   ],
   "source": [
    "#call\n",
    "add_two_nums()"
   ]
  },
  {
   "cell_type": "code",
   "execution_count": 9,
   "id": "8738f5d2",
   "metadata": {},
   "outputs": [
    {
     "ename": "NameError",
     "evalue": "name 'a' is not defined",
     "output_type": "error",
     "traceback": [
      "\u001b[1;31m---------------------------------------------------------------------------\u001b[0m",
      "\u001b[1;31mNameError\u001b[0m                                 Traceback (most recent call last)",
      "\u001b[1;32m~\\AppData\\Local\\Temp/ipykernel_6160/3374217518.py\u001b[0m in \u001b[0;36m<module>\u001b[1;34m\u001b[0m\n\u001b[1;32m----> 1\u001b[1;33m \u001b[0mprint\u001b[0m\u001b[1;33m(\u001b[0m\u001b[0ma\u001b[0m\u001b[1;33m)\u001b[0m \u001b[1;31m#will not perform as variable declared inside function\u001b[0m\u001b[1;33m\u001b[0m\u001b[1;33m\u001b[0m\u001b[0m\n\u001b[0m",
      "\u001b[1;31mNameError\u001b[0m: name 'a' is not defined"
     ]
    }
   ],
   "source": [
    "print(a) #will not perform as variable declared inside function\n",
    "#local and global variables"
   ]
  },
  {
   "cell_type": "code",
   "execution_count": 10,
   "id": "761a4e72",
   "metadata": {},
   "outputs": [],
   "source": [
    "def sum_variables():\n",
    "    global global_var\n",
    "    global_var = 500\n",
    "    local_var = 400\n",
    "    sum_var = global_var + local_var\n",
    "    print(sum_var)"
   ]
  },
  {
   "cell_type": "code",
   "execution_count": 11,
   "id": "f044a836",
   "metadata": {},
   "outputs": [
    {
     "name": "stdout",
     "output_type": "stream",
     "text": [
      "900\n"
     ]
    }
   ],
   "source": [
    "sum_variables()"
   ]
  },
  {
   "cell_type": "code",
   "execution_count": 12,
   "id": "8e4486a8",
   "metadata": {},
   "outputs": [
    {
     "data": {
      "text/plain": [
       "500"
      ]
     },
     "execution_count": 12,
     "metadata": {},
     "output_type": "execute_result"
    }
   ],
   "source": [
    "global_var"
   ]
  },
  {
   "cell_type": "code",
   "execution_count": 13,
   "id": "bae9b560",
   "metadata": {},
   "outputs": [
    {
     "ename": "NameError",
     "evalue": "name 'local_var' is not defined",
     "output_type": "error",
     "traceback": [
      "\u001b[1;31m---------------------------------------------------------------------------\u001b[0m",
      "\u001b[1;31mNameError\u001b[0m                                 Traceback (most recent call last)",
      "\u001b[1;32m~\\AppData\\Local\\Temp/ipykernel_6160/1084335655.py\u001b[0m in \u001b[0;36m<module>\u001b[1;34m\u001b[0m\n\u001b[1;32m----> 1\u001b[1;33m \u001b[0mlocal_var\u001b[0m\u001b[1;33m\u001b[0m\u001b[1;33m\u001b[0m\u001b[0m\n\u001b[0m",
      "\u001b[1;31mNameError\u001b[0m: name 'local_var' is not defined"
     ]
    }
   ],
   "source": [
    "local_var"
   ]
  },
  {
   "cell_type": "code",
   "execution_count": 20,
   "id": "23fb0c64",
   "metadata": {},
   "outputs": [],
   "source": [
    "# parameterized function\n",
    "def add_two_nums(num1,num2):\n",
    "    \"\"\"This function is made by me on 12th Feb to add two values\"\"\"\n",
    "    res = num1 + num2\n",
    "    print(f\"The sum of {num1} and {num2} is {res}\")\n",
    "    "
   ]
  },
  {
   "cell_type": "code",
   "execution_count": 21,
   "id": "a9a631d5",
   "metadata": {},
   "outputs": [
    {
     "name": "stdout",
     "output_type": "stream",
     "text": [
      "The sum of 10 and 20 is 30\n"
     ]
    }
   ],
   "source": [
    "add_two_nums(10,20)"
   ]
  },
  {
   "cell_type": "code",
   "execution_count": 29,
   "id": "3cd3c6d9",
   "metadata": {},
   "outputs": [],
   "source": [
    "def word_count(string1):\n",
    "    a = string1.count(\" \")\n",
    "    b = a+1\n",
    "    print(f\"There are {b} words in the sentence: {string1}\")\n",
    "    "
   ]
  },
  {
   "cell_type": "code",
   "execution_count": 30,
   "id": "ff79b900",
   "metadata": {},
   "outputs": [
    {
     "name": "stdout",
     "output_type": "stream",
     "text": [
      "There are 6 words in the sentence: Hello my name is Nasir Hussain\n"
     ]
    }
   ],
   "source": [
    "word_count(\"Hello my name is Nasir Hussain\")"
   ]
  },
  {
   "cell_type": "code",
   "execution_count": 31,
   "id": "0065dbe7",
   "metadata": {},
   "outputs": [
    {
     "name": "stdout",
     "output_type": "stream",
     "text": [
      "There are 4 words in the sentence: this is my function\n"
     ]
    }
   ],
   "source": [
    "word_count(\"this is my function\")"
   ]
  },
  {
   "cell_type": "code",
   "execution_count": 32,
   "id": "410ca904",
   "metadata": {},
   "outputs": [],
   "source": [
    "def word_count(string1):\n",
    "    a = string1.count(\" \")\n",
    "    b = a+1\n",
    "    return b"
   ]
  },
  {
   "cell_type": "code",
   "execution_count": 33,
   "id": "338d8c68",
   "metadata": {},
   "outputs": [
    {
     "data": {
      "text/plain": [
       "3"
      ]
     },
     "execution_count": 33,
     "metadata": {},
     "output_type": "execute_result"
    }
   ],
   "source": [
    "word_count(\"as df gh\")"
   ]
  },
  {
   "cell_type": "code",
   "execution_count": 36,
   "id": "8492cb85",
   "metadata": {},
   "outputs": [],
   "source": [
    "def word_count(string1):\n",
    "    a = string1.count(\" \")\n",
    "    b = a+1\n",
    "    c = string1.upper()\n",
    "    return b, c"
   ]
  },
  {
   "cell_type": "code",
   "execution_count": 37,
   "id": "b3d92a78",
   "metadata": {},
   "outputs": [
    {
     "data": {
      "text/plain": [
       "(4, 'THIS IS MY NAME')"
      ]
     },
     "execution_count": 37,
     "metadata": {},
     "output_type": "execute_result"
    }
   ],
   "source": [
    "word_count(\"This is My name\")"
   ]
  },
  {
   "cell_type": "code",
   "execution_count": 38,
   "id": "69611a8b",
   "metadata": {},
   "outputs": [],
   "source": [
    "#Key Word Argument"
   ]
  },
  {
   "cell_type": "code",
   "execution_count": 92,
   "id": "79bc70c2",
   "metadata": {},
   "outputs": [],
   "source": [
    "def tax_calculator(annual_income):\n",
    "    if annual_income <= 600000:\n",
    "        taxable_income = 0\n",
    "        tax = 0*taxable_income/100+0\n",
    "    elif annual_income<=1200000:\n",
    "        taxable_income = annual_income - 600000\n",
    "        tax = 5*taxable_income/100 + 0\n",
    "    elif annual_income<=1800000:\n",
    "        taxable_income = annual_income -1200000\n",
    "        tax = 10*taxable_income/100 + 30000\n",
    "    elif annual_income > 1800000:\n",
    "        taxable_income = annual_income -1800000\n",
    "        tax = 10*taxable_income/100 + 90000\n",
    "    return tax"
   ]
  },
  {
   "cell_type": "code",
   "execution_count": 93,
   "id": "fb81a725",
   "metadata": {},
   "outputs": [
    {
     "data": {
      "text/plain": [
       "90000.1"
      ]
     },
     "execution_count": 93,
     "metadata": {},
     "output_type": "execute_result"
    }
   ],
   "source": [
    "tax_calculator(1800001)"
   ]
  },
  {
   "cell_type": "code",
   "execution_count": 64,
   "id": "ce9fadbd",
   "metadata": {},
   "outputs": [
    {
     "data": {
      "text/plain": [
       "2500.0"
      ]
     },
     "execution_count": 64,
     "metadata": {},
     "output_type": "execute_result"
    }
   ],
   "source": [
    "tax_calculator(650000)"
   ]
  },
  {
   "cell_type": "code",
   "execution_count": 65,
   "id": "b966ca95",
   "metadata": {},
   "outputs": [
    {
     "data": {
      "text/plain": [
       "20000.0"
      ]
     },
     "execution_count": 65,
     "metadata": {},
     "output_type": "execute_result"
    }
   ],
   "source": [
    "tax_calculator(1000000)"
   ]
  },
  {
   "cell_type": "code",
   "execution_count": 66,
   "id": "c3b37400",
   "metadata": {},
   "outputs": [
    {
     "data": {
      "text/plain": [
       "40000.0"
      ]
     },
     "execution_count": 66,
     "metadata": {},
     "output_type": "execute_result"
    }
   ],
   "source": [
    "tax_calculator(1300000)"
   ]
  },
  {
   "cell_type": "code",
   "execution_count": 76,
   "id": "1eed7325",
   "metadata": {},
   "outputs": [
    {
     "data": {
      "text/plain": [
       "1250.0"
      ]
     },
     "execution_count": 76,
     "metadata": {},
     "output_type": "execute_result"
    }
   ],
   "source": [
    "tax_calculator(900000)"
   ]
  },
  {
   "cell_type": "code",
   "execution_count": 94,
   "id": "8764855b",
   "metadata": {},
   "outputs": [],
   "source": [
    "def net_salary(gross):\n",
    "    annual_income = gross*12\n",
    "    net_salary = gross-tax_calculator(annual_income)/12\n",
    "    return net_salary"
   ]
  },
  {
   "cell_type": "code",
   "execution_count": 95,
   "id": "fc9beb42",
   "metadata": {},
   "outputs": [
    {
     "data": {
      "text/plain": [
       "187500.0"
      ]
     },
     "execution_count": 95,
     "metadata": {},
     "output_type": "execute_result"
    }
   ],
   "source": [
    "net_salary(200000)"
   ]
  },
  {
   "cell_type": "code",
   "execution_count": 97,
   "id": "e931cc5a",
   "metadata": {},
   "outputs": [
    {
     "name": "stdout",
     "output_type": "stream",
     "text": [
      "Module Start\n",
      "Module End\n"
     ]
    }
   ],
   "source": [
    "%run salary.py"
   ]
  },
  {
   "cell_type": "code",
   "execution_count": 99,
   "id": "bc11ed0e",
   "metadata": {},
   "outputs": [
    {
     "name": "stdout",
     "output_type": "stream",
     "text": [
      "Module Start\n",
      "Module End\n"
     ]
    }
   ],
   "source": [
    "import Salary"
   ]
  },
  {
   "cell_type": "code",
   "execution_count": null,
   "id": "3104dc7d",
   "metadata": {},
   "outputs": [],
   "source": []
  }
 ],
 "metadata": {
  "kernelspec": {
   "display_name": "Python 3 (ipykernel)",
   "language": "python",
   "name": "python3"
  },
  "language_info": {
   "codemirror_mode": {
    "name": "ipython",
    "version": 3
   },
   "file_extension": ".py",
   "mimetype": "text/x-python",
   "name": "python",
   "nbconvert_exporter": "python",
   "pygments_lexer": "ipython3",
   "version": "3.9.7"
  }
 },
 "nbformat": 4,
 "nbformat_minor": 5
}
