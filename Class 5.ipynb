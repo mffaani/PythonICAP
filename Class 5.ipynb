{
 "cells": [
  {
   "cell_type": "code",
   "execution_count": 1,
   "id": "ed22ea8a",
   "metadata": {},
   "outputs": [
    {
     "data": {
      "text/plain": [
       "['Asad', 'Ali', 'Python']"
      ]
     },
     "execution_count": 1,
     "metadata": {},
     "output_type": "execute_result"
    }
   ],
   "source": [
    "#List\n",
    "#-3        -2       -1\n",
    "[\"Asad\", \"Ali\", \"Python\"]\n",
    "# 0        1       2\n"
   ]
  },
  {
   "cell_type": "code",
   "execution_count": 2,
   "id": "4826a816",
   "metadata": {},
   "outputs": [],
   "source": [
    "#create an empty Dictionary\n",
    "dictionary_format = {\"key2\":\"Value1\",\n",
    "                     \"Key1\":\"Value1\",       \n",
    "}"
   ]
  },
  {
   "cell_type": "code",
   "execution_count": 3,
   "id": "a2267741",
   "metadata": {},
   "outputs": [],
   "source": [
    "empty_dict = {}"
   ]
  },
  {
   "cell_type": "code",
   "execution_count": 4,
   "id": "1e99a1ed",
   "metadata": {},
   "outputs": [],
   "source": [
    "#adding a key value pair in dictionary\n",
    "empty_dict[\"name\"]=\"Adil\""
   ]
  },
  {
   "cell_type": "code",
   "execution_count": 5,
   "id": "eaf17ea2",
   "metadata": {},
   "outputs": [],
   "source": [
    "empty_dict[\"father\"]=\"Abdul Ali\""
   ]
  },
  {
   "cell_type": "code",
   "execution_count": 6,
   "id": "fc0d9954",
   "metadata": {},
   "outputs": [
    {
     "data": {
      "text/plain": [
       "{'name': 'Adil', 'father': 'Abdul Ali'}"
      ]
     },
     "execution_count": 6,
     "metadata": {},
     "output_type": "execute_result"
    }
   ],
   "source": [
    "empty_dict"
   ]
  },
  {
   "cell_type": "code",
   "execution_count": 7,
   "id": "67e22d7f",
   "metadata": {},
   "outputs": [
    {
     "data": {
      "text/plain": [
       "{'name': 'Kashif Ali', 'father': 'Abdul Ali'}"
      ]
     },
     "execution_count": 7,
     "metadata": {},
     "output_type": "execute_result"
    }
   ],
   "source": [
    "# update the value of a key\n",
    "empty_dict[\"name\"]=\"Kashif Ali\"\n",
    "empty_dict"
   ]
  },
  {
   "cell_type": "code",
   "execution_count": 27,
   "id": "453dde7b",
   "metadata": {},
   "outputs": [],
   "source": [
    "student = {}"
   ]
  },
  {
   "cell_type": "code",
   "execution_count": 28,
   "id": "bbaadf92",
   "metadata": {},
   "outputs": [],
   "source": [
    "student[\"roll\"]=\"42401\""
   ]
  },
  {
   "cell_type": "code",
   "execution_count": 29,
   "id": "d2ebbf4e",
   "metadata": {},
   "outputs": [],
   "source": [
    "student[\"name\"]=\"Furqan\""
   ]
  },
  {
   "cell_type": "code",
   "execution_count": 30,
   "id": "9b3b42ae",
   "metadata": {},
   "outputs": [],
   "source": [
    "student[\"f.Name\"]=\"Feroz\""
   ]
  },
  {
   "cell_type": "code",
   "execution_count": 31,
   "id": "f4f2ebd9",
   "metadata": {},
   "outputs": [],
   "source": [
    "student[\"course\"]=\"DA\""
   ]
  },
  {
   "cell_type": "code",
   "execution_count": 20,
   "id": "011a037f",
   "metadata": {},
   "outputs": [],
   "source": [
    "student[\"status\"]=\"Pass\""
   ]
  },
  {
   "cell_type": "code",
   "execution_count": 32,
   "id": "f481d298",
   "metadata": {},
   "outputs": [
    {
     "data": {
      "text/plain": [
       "{'roll': '42401', 'name': 'Furqan', 'f.Name': 'Feroz', 'course': 'DA'}"
      ]
     },
     "execution_count": 32,
     "metadata": {},
     "output_type": "execute_result"
    }
   ],
   "source": [
    "student"
   ]
  },
  {
   "cell_type": "code",
   "execution_count": 33,
   "id": "f9a87970",
   "metadata": {},
   "outputs": [
    {
     "data": {
      "text/plain": [
       "'Furqan'"
      ]
     },
     "execution_count": 33,
     "metadata": {},
     "output_type": "execute_result"
    }
   ],
   "source": [
    "student[\"name\"]"
   ]
  },
  {
   "cell_type": "raw",
   "id": "60c93e56",
   "metadata": {},
   "source": [
    "#Retrieve value"
   ]
  },
  {
   "cell_type": "code",
   "execution_count": 34,
   "id": "adae854b",
   "metadata": {},
   "outputs": [
    {
     "data": {
      "text/plain": [
       "'DA'"
      ]
     },
     "execution_count": 34,
     "metadata": {},
     "output_type": "execute_result"
    }
   ],
   "source": [
    "student[\"course\"]"
   ]
  },
  {
   "cell_type": "code",
   "execution_count": 37,
   "id": "54db90dc",
   "metadata": {},
   "outputs": [
    {
     "data": {
      "text/plain": [
       "'Feroz'"
      ]
     },
     "execution_count": 37,
     "metadata": {},
     "output_type": "execute_result"
    }
   ],
   "source": [
    "student[\"f.Name\"]"
   ]
  },
  {
   "cell_type": "code",
   "execution_count": 38,
   "id": "97e4ff4f",
   "metadata": {},
   "outputs": [],
   "source": [
    "#retrieve wihout error (does not generate error if there is no key)\n",
    "empty_dict.get(\"course\")"
   ]
  },
  {
   "cell_type": "code",
   "execution_count": 39,
   "id": "e95dcf9b",
   "metadata": {},
   "outputs": [
    {
     "data": {
      "text/plain": [
       "'Kashif Ali'"
      ]
     },
     "execution_count": 39,
     "metadata": {},
     "output_type": "execute_result"
    }
   ],
   "source": [
    "empty_dict.get(\"name\")"
   ]
  },
  {
   "cell_type": "code",
   "execution_count": 40,
   "id": "6b8b93ef",
   "metadata": {},
   "outputs": [
    {
     "name": "stdout",
     "output_type": "stream",
     "text": [
      "name father\n"
     ]
    }
   ],
   "source": [
    "#Print dictionary keys\n",
    "print(*empty_dict)"
   ]
  },
  {
   "cell_type": "code",
   "execution_count": 41,
   "id": "f3820e22",
   "metadata": {},
   "outputs": [],
   "source": [
    "alist = [\"ab\", \"bc\", \"cd\", \"de\", \"ef\"]"
   ]
  },
  {
   "cell_type": "code",
   "execution_count": 44,
   "id": "307bc58a",
   "metadata": {},
   "outputs": [
    {
     "name": "stdout",
     "output_type": "stream",
     "text": [
      "ab\n"
     ]
    }
   ],
   "source": [
    "print(alist[0])"
   ]
  },
  {
   "cell_type": "code",
   "execution_count": 42,
   "id": "30b0bac9",
   "metadata": {
    "scrolled": true
   },
   "outputs": [
    {
     "name": "stdout",
     "output_type": "stream",
     "text": [
      "ab bc cd de ef\n"
     ]
    }
   ],
   "source": [
    "print(*alist)"
   ]
  },
  {
   "cell_type": "code",
   "execution_count": 45,
   "id": "e4e00a79",
   "metadata": {},
   "outputs": [
    {
     "name": "stdout",
     "output_type": "stream",
     "text": [
      "hello---I am Python---Good Work\t"
     ]
    }
   ],
   "source": [
    "newDic = {\"sep\":\"---\", \"end\":\"\\t\"}\n",
    "print(\"hello\", \"I am Python\", \"Good Work\",**newDic)"
   ]
  },
  {
   "cell_type": "code",
   "execution_count": 46,
   "id": "04ef35f1",
   "metadata": {},
   "outputs": [
    {
     "name": "stdout",
     "output_type": "stream",
     "text": [
      "hello^^I am Python^^Good Work\t"
     ]
    }
   ],
   "source": [
    "newDic1 = {\"sep\":\"^^\", \"end\":\"\\t\"}\n",
    "print(\"hello\", \"I am Python\", \"Good Work\",**newDic1)"
   ]
  },
  {
   "cell_type": "code",
   "execution_count": 47,
   "id": "2e7a8c4d",
   "metadata": {},
   "outputs": [
    {
     "name": "stdout",
     "output_type": "stream",
     "text": [
      "hello%%%%I am Python%%%%Good Work\n"
     ]
    }
   ],
   "source": [
    "newDic2 = {\"sep\":\"%%%%\", }\n",
    "print(\"hello\", \"I am Python\", \"Good Work\",**newDic2)"
   ]
  },
  {
   "cell_type": "code",
   "execution_count": 48,
   "id": "5fa30aeb",
   "metadata": {},
   "outputs": [
    {
     "name": "stdout",
     "output_type": "stream",
     "text": [
      "hello%%%%I am Python%%%%Good Work\n"
     ]
    }
   ],
   "source": [
    "newDic3 = {\"sep\":\" ||| \", }\n",
    "print(\"hello\", \"I am Python\", \"Good Work\",**newDic2)"
   ]
  },
  {
   "cell_type": "code",
   "execution_count": 49,
   "id": "2f03d92c",
   "metadata": {},
   "outputs": [
    {
     "name": "stdout",
     "output_type": "stream",
     "text": [
      "hello ||| I am Python ||| Good Work\n"
     ]
    }
   ],
   "source": [
    "newDic3 = {\"sep\":\" ||| \", }\n",
    "print(\"hello\", \"I am Python\", \"Good Work\",**newDic3)"
   ]
  },
  {
   "cell_type": "code",
   "execution_count": 50,
   "id": "aad364e7",
   "metadata": {},
   "outputs": [],
   "source": [
    "text = \"Pakistan Zindabad\""
   ]
  },
  {
   "cell_type": "code",
   "execution_count": 51,
   "id": "61789c8f",
   "metadata": {},
   "outputs": [],
   "source": [
    "x = text.index(\"Zindabad\")"
   ]
  },
  {
   "cell_type": "code",
   "execution_count": 52,
   "id": "e6047581",
   "metadata": {},
   "outputs": [
    {
     "name": "stdout",
     "output_type": "stream",
     "text": [
      "9\n"
     ]
    }
   ],
   "source": [
    "print(x)"
   ]
  },
  {
   "cell_type": "code",
   "execution_count": 53,
   "id": "5cd1068c",
   "metadata": {},
   "outputs": [
    {
     "data": {
      "text/plain": [
       "0"
      ]
     },
     "execution_count": 53,
     "metadata": {},
     "output_type": "execute_result"
    }
   ],
   "source": [
    "\"Pakistan is my country. Pakistan\". index(\"Pakistan\")"
   ]
  },
  {
   "cell_type": "code",
   "execution_count": 54,
   "id": "ef3addad",
   "metadata": {},
   "outputs": [
    {
     "data": {
      "text/plain": [
       "24"
      ]
     },
     "execution_count": 54,
     "metadata": {},
     "output_type": "execute_result"
    }
   ],
   "source": [
    "\"Pakistan is my country. Pakistan\". index(\"Pakistan\",1)"
   ]
  },
  {
   "cell_type": "code",
   "execution_count": 55,
   "id": "8bf13c0f",
   "metadata": {},
   "outputs": [],
   "source": [
    "new_dict = {}"
   ]
  },
  {
   "cell_type": "code",
   "execution_count": 56,
   "id": "89f00d48",
   "metadata": {},
   "outputs": [],
   "source": [
    "new_dict[\"Sub\"] = \"Pakistan\""
   ]
  },
  {
   "cell_type": "code",
   "execution_count": 57,
   "id": "fde802c5",
   "metadata": {},
   "outputs": [],
   "source": [
    "new_dict[\"start\"] = 3"
   ]
  },
  {
   "cell_type": "code",
   "execution_count": 58,
   "id": "985f84f8",
   "metadata": {},
   "outputs": [],
   "source": [
    "new_dict[\"end\"] = 6"
   ]
  },
  {
   "cell_type": "code",
   "execution_count": 59,
   "id": "2bcaf1fd",
   "metadata": {},
   "outputs": [
    {
     "name": "stdout",
     "output_type": "stream",
     "text": [
      "{'Sub': 'Pakistan', 'start': 3, 'end': 6}\n"
     ]
    }
   ],
   "source": [
    "print(new_dict)"
   ]
  },
  {
   "cell_type": "code",
   "execution_count": 62,
   "id": "5729b969",
   "metadata": {},
   "outputs": [
    {
     "name": "stdout",
     "output_type": "stream",
     "text": [
      "roll\n",
      "name\n",
      "f.Name\n",
      "course\n"
     ]
    }
   ],
   "source": [
    "#How to retreive all keys\n",
    "#by default when we loop over a dic it returns keys\n",
    "for k in student:\n",
    "    print (k)"
   ]
  },
  {
   "cell_type": "code",
   "execution_count": 63,
   "id": "d7f8ce7b",
   "metadata": {},
   "outputs": [
    {
     "name": "stdout",
     "output_type": "stream",
     "text": [
      "roll\n",
      "name\n",
      "f.Name\n",
      "course\n"
     ]
    }
   ],
   "source": [
    "for keys in student.keys():\n",
    "    print(keys)"
   ]
  },
  {
   "cell_type": "code",
   "execution_count": 65,
   "id": "4f7913d0",
   "metadata": {},
   "outputs": [
    {
     "name": "stdout",
     "output_type": "stream",
     "text": [
      "42401\n",
      "Furqan\n",
      "Feroz\n",
      "DA\n"
     ]
    }
   ],
   "source": [
    "for values in student.values():\n",
    "    print(values)"
   ]
  },
  {
   "cell_type": "code",
   "execution_count": 71,
   "id": "fe9d1a2b",
   "metadata": {},
   "outputs": [
    {
     "name": "stdout",
     "output_type": "stream",
     "text": [
      "42401\n",
      "Furqan\n",
      "Feroz\n",
      "DA\n"
     ]
    }
   ],
   "source": [
    "for keys in student:\n",
    "    print(student[keys])"
   ]
  },
  {
   "cell_type": "markdown",
   "id": "95fd6714",
   "metadata": {},
   "source": [
    "# Tuple\n",
    "#Tuple is like list but it cannot be modified. It is immutable\n"
   ]
  },
  {
   "cell_type": "code",
   "execution_count": 72,
   "id": "c7f86028",
   "metadata": {},
   "outputs": [],
   "source": [
    "newtuple = tuple([1,2,3,4,])"
   ]
  },
  {
   "cell_type": "code",
   "execution_count": 83,
   "id": "8b332d8b",
   "metadata": {},
   "outputs": [
    {
     "ename": "TypeError",
     "evalue": "'tuple' object is not callable",
     "output_type": "error",
     "traceback": [
      "\u001b[1;31m---------------------------------------------------------------------------\u001b[0m",
      "\u001b[1;31mTypeError\u001b[0m                                 Traceback (most recent call last)",
      "\u001b[1;32m~\\AppData\\Local\\Temp/ipykernel_6892/1294438748.py\u001b[0m in \u001b[0;36m<module>\u001b[1;34m\u001b[0m\n\u001b[1;32m----> 1\u001b[1;33m \u001b[0mprint\u001b[0m\u001b[1;33m(\u001b[0m\u001b[0mnewtuple\u001b[0m\u001b[1;33m)\u001b[0m\u001b[1;33m\u001b[0m\u001b[1;33m\u001b[0m\u001b[0m\n\u001b[0m",
      "\u001b[1;31mTypeError\u001b[0m: 'tuple' object is not callable"
     ]
    }
   ],
   "source": [
    "print(newtuple)"
   ]
  },
  {
   "cell_type": "code",
   "execution_count": 80,
   "id": "a4f0e656",
   "metadata": {},
   "outputs": [],
   "source": [
    "btuple = (5,6,7,8,9)"
   ]
  },
  {
   "cell_type": "code",
   "execution_count": 81,
   "id": "59a1d06b",
   "metadata": {},
   "outputs": [
    {
     "ename": "TypeError",
     "evalue": "'tuple' object is not callable",
     "output_type": "error",
     "traceback": [
      "\u001b[1;31m---------------------------------------------------------------------------\u001b[0m",
      "\u001b[1;31mTypeError\u001b[0m                                 Traceback (most recent call last)",
      "\u001b[1;32m~\\AppData\\Local\\Temp/ipykernel_6892/1291764060.py\u001b[0m in \u001b[0;36m<module>\u001b[1;34m\u001b[0m\n\u001b[1;32m----> 1\u001b[1;33m \u001b[0mprint\u001b[0m\u001b[1;33m(\u001b[0m\u001b[0mbtuple\u001b[0m\u001b[1;33m)\u001b[0m\u001b[1;33m\u001b[0m\u001b[1;33m\u001b[0m\u001b[0m\n\u001b[0m",
      "\u001b[1;31mTypeError\u001b[0m: 'tuple' object is not callable"
     ]
    }
   ],
   "source": [
    "print(btuple)"
   ]
  },
  {
   "cell_type": "code",
   "execution_count": 82,
   "id": "269c7b19",
   "metadata": {},
   "outputs": [
    {
     "ename": "TypeError",
     "evalue": "'tuple' object is not callable",
     "output_type": "error",
     "traceback": [
      "\u001b[1;31m---------------------------------------------------------------------------\u001b[0m",
      "\u001b[1;31mTypeError\u001b[0m                                 Traceback (most recent call last)",
      "\u001b[1;32m~\\AppData\\Local\\Temp/ipykernel_6892/1294438748.py\u001b[0m in \u001b[0;36m<module>\u001b[1;34m\u001b[0m\n\u001b[1;32m----> 1\u001b[1;33m \u001b[0mprint\u001b[0m\u001b[1;33m(\u001b[0m\u001b[0mnewtuple\u001b[0m\u001b[1;33m)\u001b[0m\u001b[1;33m\u001b[0m\u001b[1;33m\u001b[0m\u001b[0m\n\u001b[0m",
      "\u001b[1;31mTypeError\u001b[0m: 'tuple' object is not callable"
     ]
    }
   ],
   "source": [
    "print(newtuple)"
   ]
  },
  {
   "cell_type": "code",
   "execution_count": null,
   "id": "8cf9159c",
   "metadata": {},
   "outputs": [],
   "source": []
  }
 ],
 "metadata": {
  "kernelspec": {
   "display_name": "Python 3 (ipykernel)",
   "language": "python",
   "name": "python3"
  },
  "language_info": {
   "codemirror_mode": {
    "name": "ipython",
    "version": 3
   },
   "file_extension": ".py",
   "mimetype": "text/x-python",
   "name": "python",
   "nbconvert_exporter": "python",
   "pygments_lexer": "ipython3",
   "version": "3.9.7"
  }
 },
 "nbformat": 4,
 "nbformat_minor": 5
}
