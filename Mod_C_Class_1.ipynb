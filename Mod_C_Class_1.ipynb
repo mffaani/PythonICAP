{
 "cells": [
  {
   "cell_type": "code",
   "execution_count": 1,
   "id": "316142ad",
   "metadata": {},
   "outputs": [
    {
     "name": "stdout",
     "output_type": "stream",
     "text": [
      "Jupyter\n"
     ]
    }
   ],
   "source": [
    "print(\"Jupyter\")"
   ]
  },
  {
   "cell_type": "markdown",
   "id": "324d0d02",
   "metadata": {},
   "source": [
    "Markdown is for writing remarks etc. in code output format"
   ]
  },
  {
   "cell_type": "raw",
   "id": "c15f1371",
   "metadata": {},
   "source": [
    "Raw NB Convert is for writing text etc. in cell"
   ]
  },
  {
   "cell_type": "markdown",
   "id": "94dae12b",
   "metadata": {},
   "source": [
    "# Headings used for headings"
   ]
  },
  {
   "cell_type": "code",
   "execution_count": 3,
   "id": "b5b50b51",
   "metadata": {},
   "outputs": [
    {
     "name": "stdout",
     "output_type": "stream",
     "text": [
      "This is \"Pakistan\", land of pure\n"
     ]
    }
   ],
   "source": [
    "print('This is \"Pakistan\", land of pure')"
   ]
  },
  {
   "cell_type": "code",
   "execution_count": 4,
   "id": "dfb384ca",
   "metadata": {},
   "outputs": [
    {
     "name": "stdout",
     "output_type": "stream",
     "text": [
      "prime number 1 3\n"
     ]
    }
   ],
   "source": [
    "print(\"prime number\",1,1+2)"
   ]
  },
  {
   "cell_type": "code",
   "execution_count": 7,
   "id": "b4eb506f",
   "metadata": {},
   "outputs": [
    {
     "name": "stdout",
     "output_type": "stream",
     "text": [
      "Muhammad Furqan\n"
     ]
    }
   ],
   "source": [
    "print(\"Muhammad\",\"Furqan\")"
   ]
  },
  {
   "cell_type": "code",
   "execution_count": 14,
   "id": "8b94f2e5",
   "metadata": {},
   "outputs": [
    {
     "name": "stdout",
     "output_type": "stream",
     "text": [
      "MuhammadFurqan\n"
     ]
    }
   ],
   "source": [
    "print(\"Muhammad\", end=\"\")\n",
    "print(\"Furqan\")"
   ]
  },
  {
   "cell_type": "code",
   "execution_count": 17,
   "id": "4eec35c6",
   "metadata": {},
   "outputs": [],
   "source": [
    "variable1 = \"Muhammad Furqan\"\n",
    "variable2 = \"Muhammad Feroz\""
   ]
  },
  {
   "cell_type": "code",
   "execution_count": 23,
   "id": "ef0ba4e3",
   "metadata": {},
   "outputs": [
    {
     "data": {
      "text/plain": [
       "'Muhammad Furqan'"
      ]
     },
     "execution_count": 23,
     "metadata": {},
     "output_type": "execute_result"
    }
   ],
   "source": [
    "variable1"
   ]
  },
  {
   "cell_type": "code",
   "execution_count": 25,
   "id": "cb86b2af",
   "metadata": {},
   "outputs": [
    {
     "data": {
      "text/plain": [
       "'Muhammad Furqan Muhammad Feroz'"
      ]
     },
     "execution_count": 25,
     "metadata": {},
     "output_type": "execute_result"
    }
   ],
   "source": [
    "variable1+\" \"+variable2"
   ]
  },
  {
   "cell_type": "code",
   "execution_count": 26,
   "id": "7be98b8c",
   "metadata": {},
   "outputs": [
    {
     "data": {
      "text/plain": [
       "'Muhammad Furqan\\nMuhammad Feroz'"
      ]
     },
     "execution_count": 26,
     "metadata": {},
     "output_type": "execute_result"
    }
   ],
   "source": [
    "variable1+\"\\n\"+variable2"
   ]
  },
  {
   "cell_type": "code",
   "execution_count": 27,
   "id": "5c14cee8",
   "metadata": {},
   "outputs": [
    {
     "name": "stdout",
     "output_type": "stream",
     "text": [
      "Muhammad Furqan\n",
      "Muhammad Feroz\n"
     ]
    }
   ],
   "source": [
    "print(variable1+\"\\n\"+variable2)"
   ]
  },
  {
   "cell_type": "code",
   "execution_count": 28,
   "id": "ede53f61",
   "metadata": {},
   "outputs": [
    {
     "name": "stdout",
     "output_type": "stream",
     "text": [
      "15\n"
     ]
    }
   ],
   "source": [
    "print(len(variable1))"
   ]
  },
  {
   "cell_type": "code",
   "execution_count": 30,
   "id": "7e205051",
   "metadata": {},
   "outputs": [
    {
     "name": "stdout",
     "output_type": "stream",
     "text": [
      "My name is Muhammad Furqan and my father's name is Muhammad Feroz\n"
     ]
    }
   ],
   "source": [
    "Name = \"Muhammad Furqan\"\n",
    "FatherName = \"Muhammad Feroz\"\n",
    "description = \"My name is {} and my father's name is {}\".format(Name,FatherName)\n",
    "#placeholder\n",
    "print(description)"
   ]
  },
  {
   "cell_type": "code",
   "execution_count": 33,
   "id": "a0c58022",
   "metadata": {},
   "outputs": [
    {
     "name": "stdout",
     "output_type": "stream",
     "text": [
      "My name is Muhammad Furqan and my Father name is Muhammad Feroz\n"
     ]
    }
   ],
   "source": [
    "description = \"My name is \"+Name+\" and my Father name is \"+FatherName\n",
    "print(description)"
   ]
  },
  {
   "cell_type": "code",
   "execution_count": 36,
   "id": "71c8fff5",
   "metadata": {},
   "outputs": [
    {
     "name": "stdout",
     "output_type": "stream",
     "text": [
      "My name is Muhammad Furqan and my father name is Muhammad Feroz\n"
     ]
    }
   ],
   "source": [
    "description = f\"My name is {Name} and my father name is {FatherName}\"\n",
    "print(description)"
   ]
  },
  {
   "cell_type": "code",
   "execution_count": 38,
   "id": "7046a523",
   "metadata": {},
   "outputs": [],
   "source": [
    "Roll = 15987\n",
    "Course = \"DA\""
   ]
  },
  {
   "cell_type": "code",
   "execution_count": 42,
   "id": "3515c83f",
   "metadata": {},
   "outputs": [
    {
     "name": "stdout",
     "output_type": "stream",
     "text": [
      "\n",
      "Name:           Muhammad Furqan\n",
      "Father Name:    Muhammad Feroz\n",
      "Roll No.:       15987\n",
      "Course:         DA\n"
     ]
    }
   ],
   "source": [
    "Card = f\"\"\"\n",
    "Name:           {Name}\n",
    "Father Name:    {FatherName}\n",
    "Roll No.:       {Roll}\n",
    "Course:         {Course}\"\"\"\n",
    "print(Card)"
   ]
  },
  {
   "cell_type": "markdown",
   "id": "e1427883",
   "metadata": {},
   "source": [
    "# Operators\n",
    "-Binary Operators\n",
    "-Uniry Operators\n",
    "-Comparison operators (< > == !=)(less than, greater than, equal to, not equal to) results in True or False\n"
   ]
  },
  {
   "cell_type": "code",
   "execution_count": 2,
   "id": "181abf36",
   "metadata": {},
   "outputs": [
    {
     "data": {
      "text/plain": [
       "True"
      ]
     },
     "execution_count": 2,
     "metadata": {},
     "output_type": "execute_result"
    }
   ],
   "source": [
    "34==34"
   ]
  },
  {
   "cell_type": "code",
   "execution_count": 3,
   "id": "edb6a948",
   "metadata": {},
   "outputs": [
    {
     "data": {
      "text/plain": [
       "False"
      ]
     },
     "execution_count": 3,
     "metadata": {},
     "output_type": "execute_result"
    }
   ],
   "source": [
    "34<30"
   ]
  },
  {
   "cell_type": "code",
   "execution_count": 4,
   "id": "e528f6ac",
   "metadata": {},
   "outputs": [
    {
     "data": {
      "text/plain": [
       "True"
      ]
     },
     "execution_count": 4,
     "metadata": {},
     "output_type": "execute_result"
    }
   ],
   "source": [
    "34>30"
   ]
  },
  {
   "cell_type": "code",
   "execution_count": 6,
   "id": "15e6cb1e",
   "metadata": {},
   "outputs": [
    {
     "data": {
      "text/plain": [
       "False"
      ]
     },
     "execution_count": 6,
     "metadata": {},
     "output_type": "execute_result"
    }
   ],
   "source": [
    "34!=34"
   ]
  },
  {
   "cell_type": "code",
   "execution_count": 9,
   "id": "e78341a4",
   "metadata": {},
   "outputs": [
    {
     "data": {
      "text/plain": [
       "False"
      ]
     },
     "execution_count": 9,
     "metadata": {},
     "output_type": "execute_result"
    }
   ],
   "source": [
    "34>35"
   ]
  },
  {
   "cell_type": "markdown",
   "id": "525f1213",
   "metadata": {},
   "source": [
    "# Operattor Precedance\n",
    "BODMAS rule\n",
    "Exponent Top rule"
   ]
  },
  {
   "cell_type": "code",
   "execution_count": 12,
   "id": "bf97b9b0",
   "metadata": {},
   "outputs": [
    {
     "data": {
      "text/plain": [
       "854"
      ]
     },
     "execution_count": 12,
     "metadata": {},
     "output_type": "execute_result"
    }
   ],
   "source": [
    "-2*5+6*(5+7)**2"
   ]
  },
  {
   "cell_type": "code",
   "execution_count": 13,
   "id": "3568847f",
   "metadata": {},
   "outputs": [
    {
     "data": {
      "text/plain": [
       "720"
      ]
     },
     "execution_count": 13,
     "metadata": {},
     "output_type": "execute_result"
    }
   ],
   "source": [
    "(3*4)**2*5"
   ]
  },
  {
   "cell_type": "code",
   "execution_count": 14,
   "id": "440f811e",
   "metadata": {},
   "outputs": [
    {
     "data": {
      "text/plain": [
       "61917364224"
      ]
     },
     "execution_count": 14,
     "metadata": {},
     "output_type": "execute_result"
    }
   ],
   "source": [
    "(3*4)**(2*5)"
   ]
  },
  {
   "cell_type": "markdown",
   "id": "5152be90",
   "metadata": {},
   "source": [
    "# Converting Mathematical expressions into Code"
   ]
  },
  {
   "cell_type": "code",
   "execution_count": 16,
   "id": "799bfd0a",
   "metadata": {},
   "outputs": [],
   "source": [
    "# X = (-b+(b**2-4*a*c)**0.5)/2a (Quadratic Equation)"
   ]
  },
  {
   "cell_type": "code",
   "execution_count": 24,
   "id": "be25430d",
   "metadata": {},
   "outputs": [
    {
     "name": "stdout",
     "output_type": "stream",
     "text": [
      "-0.4724747683480534\n"
     ]
    }
   ],
   "source": [
    "a=3\n",
    "b=12\n",
    "c=5\n",
    "X = (-b+(b**2-4*a*c)**0.5)/(2*a)\n",
    "\n",
    "print(X)"
   ]
  },
  {
   "cell_type": "code",
   "execution_count": 21,
   "id": "6bc9c420",
   "metadata": {},
   "outputs": [],
   "source": [
    "a=3\n",
    "b=12\n",
    "X=a**2+2*a*b+b**2"
   ]
  },
  {
   "cell_type": "code",
   "execution_count": 22,
   "id": "d29029bd",
   "metadata": {},
   "outputs": [
    {
     "data": {
      "text/plain": [
       "225"
      ]
     },
     "execution_count": 22,
     "metadata": {},
     "output_type": "execute_result"
    }
   ],
   "source": [
    "X"
   ]
  },
  {
   "cell_type": "markdown",
   "id": "2e5e4d19",
   "metadata": {},
   "source": [
    "# Variable"
   ]
  },
  {
   "cell_type": "code",
   "execution_count": 4,
   "id": "90bb8cbc",
   "metadata": {},
   "outputs": [
    {
     "name": "stdout",
     "output_type": "stream",
     "text": [
      "your age28\n"
     ]
    }
   ],
   "source": [
    "age = int(input(\"your age\"))"
   ]
  },
  {
   "cell_type": "code",
   "execution_count": 1,
   "id": "6f1ab36f",
   "metadata": {},
   "outputs": [
    {
     "name": "stdout",
     "output_type": "stream",
     "text": [
      "your name? Furqan\n"
     ]
    }
   ],
   "source": [
    "name = input(\"your name?\")"
   ]
  },
  {
   "cell_type": "code",
   "execution_count": null,
   "id": "0c47542e",
   "metadata": {},
   "outputs": [],
   "source": []
  }
 ],
 "metadata": {
  "kernelspec": {
   "display_name": "Python 3 (ipykernel)",
   "language": "python",
   "name": "python3"
  },
  "language_info": {
   "codemirror_mode": {
    "name": "ipython",
    "version": 3
   },
   "file_extension": ".py",
   "mimetype": "text/x-python",
   "name": "python",
   "nbconvert_exporter": "python",
   "pygments_lexer": "ipython3",
   "version": "3.9.7"
  }
 },
 "nbformat": 4,
 "nbformat_minor": 5
}
