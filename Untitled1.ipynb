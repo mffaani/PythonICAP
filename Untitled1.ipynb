{
 "cells": [
  {
   "cell_type": "code",
   "execution_count": 3,
   "id": "dc2eb5b7",
   "metadata": {},
   "outputs": [
    {
     "name": "stdout",
     "output_type": "stream",
     "text": [
      "True\n",
      "False\n"
     ]
    }
   ],
   "source": [
    "names = [\"qasim\",\"Asif\",\"Nasir\",\"Noman\" ]\n",
    "search_names = [\"qasim\",\"haseeb\"]\n",
    "for s_name in search_names:\n",
    "    print (s_name in names)"
   ]
  },
  {
   "cell_type": "code",
   "execution_count": 5,
   "id": "6cb616c6",
   "metadata": {},
   "outputs": [],
   "source": [
    "import numpy as np"
   ]
  },
  {
   "cell_type": "markdown",
   "id": "584f7be5",
   "metadata": {},
   "source": [
    "# np.in1d()\n",
    "serach the string and returns true or false"
   ]
  },
  {
   "cell_type": "code",
   "execution_count": 6,
   "id": "7a6c10fc",
   "metadata": {},
   "outputs": [
    {
     "data": {
      "text/plain": [
       "array([ True, False])"
      ]
     },
     "execution_count": 6,
     "metadata": {},
     "output_type": "execute_result"
    }
   ],
   "source": [
    "names = [\"qasim\",\"Asif\",\"Nasir\",\"Noman\" ]\n",
    "search_names = [\"qasim\",\"haseeb\"]\n",
    "\n",
    "np.in1d(search_names, names)"
   ]
  },
  {
   "cell_type": "code",
   "execution_count": 8,
   "id": "1977aa31",
   "metadata": {},
   "outputs": [
    {
     "data": {
      "text/plain": [
       "array([[75, 90, 58,  7, 10],\n",
       "       [59, 86, 49, 58, 26],\n",
       "       [14, 98, 86, 53, 76],\n",
       "       [ 3, 52, 67, 58, 22],\n",
       "       [35, 81, 91, 58,  6],\n",
       "       [ 1, 96, 64, 65,  5],\n",
       "       [61, 89, 47, 82, 64],\n",
       "       [43, 61, 40, 76, 97],\n",
       "       [47, 25, 81, 84, 75],\n",
       "       [ 1, 69, 87, 68, 36]])"
      ]
     },
     "execution_count": 8,
     "metadata": {},
     "output_type": "execute_result"
    }
   ],
   "source": [
    "a = np.random.randint(1,100,50).reshape(10,5)\n",
    "a"
   ]
  },
  {
   "cell_type": "code",
   "execution_count": 9,
   "id": "422143ab",
   "metadata": {},
   "outputs": [
    {
     "data": {
      "text/plain": [
       "array([['odd', 'even', 'even', 'odd', 'even'],\n",
       "       ['odd', 'even', 'odd', 'even', 'even'],\n",
       "       ['even', 'even', 'even', 'odd', 'even'],\n",
       "       ['odd', 'even', 'odd', 'even', 'even'],\n",
       "       ['odd', 'odd', 'odd', 'even', 'even'],\n",
       "       ['odd', 'even', 'even', 'odd', 'odd'],\n",
       "       ['odd', 'odd', 'odd', 'even', 'even'],\n",
       "       ['odd', 'odd', 'even', 'even', 'odd'],\n",
       "       ['odd', 'odd', 'odd', 'even', 'odd'],\n",
       "       ['odd', 'odd', 'odd', 'even', 'even']], dtype='<U4')"
      ]
     },
     "execution_count": 9,
     "metadata": {},
     "output_type": "execute_result"
    }
   ],
   "source": [
    "np.where(a%2==0,\"even\",\"odd\")"
   ]
  },
  {
   "cell_type": "code",
   "execution_count": 44,
   "id": "14e2744a",
   "metadata": {},
   "outputs": [
    {
     "data": {
      "text/plain": [
       "array([   1,    2,    3,    4,    5,    6,    7,    8,    9,   10,   11,\n",
       "         12,   13,   14,   15,   16,   17,   18,   19,   20,   21,   22,\n",
       "         23,   24,   25,   26,   27,   28,   29,   30,   31,   32,   33,\n",
       "         34,   35,   36,   37,   38,   39,   40,   41,   42,   43,   44,\n",
       "         45,   46,   47,   48,   49,   50,   51,   52,   53,   54,   55,\n",
       "         56,   57,   58,   59,   60,   61,   62,   63,   64,   65,   66,\n",
       "         67,   68,   69,   70,   71,   72,   73,   74,   75,   76,   77,\n",
       "         78,   79,   80,   81,   82,   83,   84,   85,   86,   87,   88,\n",
       "         89,   90,   91,   92,   93,   94,   95,   96,   97,   98,   99,\n",
       "        100,  101,  102,  103,  104,  105,  106,  107,  108,  109,  110,\n",
       "        111,  112,  113,  114,  115,  116,  117,  118,  119,  120,  121,\n",
       "        122,  123,  124,  125,  126,  127,  128,  129,  130,  131,  132,\n",
       "        133,  134,  135,  136,  137,  138,  139,  140,  141,  142,  143,\n",
       "        144,  145,  146,  147,  148,  149,  150,  151,  152,  153,  154,\n",
       "        155,  156,  157,  158,  159,  160,  161,  162,  163,  164,  165,\n",
       "        166,  167,  168,  169,  170,  171,  172,  173,  174,  175,  176,\n",
       "        177,  178,  179,  180,  181,  182,  183,  184,  185,  186,  187,\n",
       "        188,  189,  190,  191,  192,  193,  194,  195,  196,  197,  198,\n",
       "        199,  200,  201,  202,  203,  204,  205,  206,  207,  208,  209,\n",
       "        210,  211,  212,  213,  214,  215,  216,  217,  218,  219,  220,\n",
       "        221,  222,  223,  224,  225,  226,  227,  228,  229,  230,  231,\n",
       "        232,  233,  234,  235,  236,  237,  238,  239,  240,  241,  242,\n",
       "        243,  244,  245,  246,  247,  248,  249,  250,  251,  252,  253,\n",
       "        254,  255,  256,  257,  258,  259,  260,  261,  262,  263,  264,\n",
       "        265,  266,  267,  268,  269,  270,  271,  272,  273,  274,  275,\n",
       "        276,  277,  278,  279,  280,  281,  282,  283,  284,  285,  286,\n",
       "        287,  288,  289,  290,  291,  292,  293,  294,  295,  296,  297,\n",
       "        298,  299,  300,  301,  302,  303,  304,  305,  306,  307,  308,\n",
       "        309,  310,  311,  312,  313,  314,  315,  316,  317,  318,  319,\n",
       "        320,  321,  322,  323,  324,  325,  326,  327,  328,  329,  330,\n",
       "        331,  332,  333,  334,  335,  336,  337,  338,  339,  340,  341,\n",
       "        342,  343,  344,  345,  346,  347,  348,  349,  350,  351,  352,\n",
       "        353,  354,  355,  356,  357,  358,  359,  360,  361,  362,  363,\n",
       "        364,  365,  366,  367,  368,  369,  370,  371,  372,  373,  374,\n",
       "        375,  376,  377,  378,  379,  380,  381,  382,  383,  384,  385,\n",
       "        386,  387,  388,  389,  390,  391,  392,  393,  394,  395,  396,\n",
       "        397,  398,  399,  400,  401,  402,  403,  404,  405,  406,  407,\n",
       "        408,  409,  410,  411,  412,  413,  414,  415,  416,  417,  418,\n",
       "        419,  420,  421,  422,  423,  424,  425,  426,  427,  428,  429,\n",
       "        430,  431,  432,  433,  434,  435,  436,  437,  438,  439,  440,\n",
       "        441,  442,  443,  444,  445,  446,  447,  448,  449,  450,  451,\n",
       "        452,  453,  454,  455,  456,  457,  458,  459,  460,  461,  462,\n",
       "        463,  464,  465,  466,  467,  468,  469,  470,  471,  472,  473,\n",
       "        474,  475,  476,  477,  478,  479,  480,  481,  482,  483,  484,\n",
       "        485,  486,  487,  488,  489,  490,  491,  492,  493,  494,  495,\n",
       "        496,  497,  498,  499,  500,  501,  502,  503,  504,  505,  506,\n",
       "        507,  508,  509,  510,  511,  512,  513,  514,  515,  516,  517,\n",
       "        518,  519,  520,  521,  522,  523,  524,  525,  526,  527,  528,\n",
       "        529,  530,  531,  532,  533,  534,  535,  536,  537,  538,  539,\n",
       "        540,  541,  542,  543,  544,  545,  546,  547,  548,  549,  550,\n",
       "        551,  552,  553,  554,  555,  556,  557,  558,  559,  560,  561,\n",
       "        562,  563,  564,  565,  566,  567,  568,  569,  570,  571,  572,\n",
       "        573,  574,  575,  576,  577,  578,  579,  580,  581,  582,  583,\n",
       "        584,  585,  586,  587,  588,  589,  590,  591,  592,  593,  594,\n",
       "        595,  596,  597,  598,  599,  600,  601,  602,  603,  604,  605,\n",
       "        606,  607,  608,  609,  610,  611,  612,  613,  614,  615,  616,\n",
       "        617,  618,  619,  620,  621,  622,  623,  624,  625,  626,  627,\n",
       "        628,  629,  630,  631,  632,  633,  634,  635,  636,  637,  638,\n",
       "        639,  640,  641,  642,  643,  644,  645,  646,  647,  648,  649,\n",
       "        650,  651,  652,  653,  654,  655,  656,  657,  658,  659,  660,\n",
       "        661,  662,  663,  664,  665,  666,  667,  668,  669,  670,  671,\n",
       "        672,  673,  674,  675,  676,  677,  678,  679,  680,  681,  682,\n",
       "        683,  684,  685,  686,  687,  688,  689,  690,  691,  692,  693,\n",
       "        694,  695,  696,  697,  698,  699,  700,  701,  702,  703,  704,\n",
       "        705,  706,  707,  708,  709,  710,  711,  712,  713,  714,  715,\n",
       "        716,  717,  718,  719,  720,  721,  722,  723,  724,  725,  726,\n",
       "        727,  728,  729,  730,  731,  732,  733,  734,  735,  736,  737,\n",
       "        738,  739,  740,  741,  742,  743,  744,  745,  746,  747,  748,\n",
       "        749,  750,  751,  752,  753,  754,  755,  756,  757,  758,  759,\n",
       "        760,  761,  762,  763,  764,  765,  766,  767,  768,  769,  770,\n",
       "        771,  772,  773,  774,  775,  776,  777,  778,  779,  780,  781,\n",
       "        782,  783,  784,  785,  786,  787,  788,  789,  790,  791,  792,\n",
       "        793,  794,  795,  796,  797,  798,  799,  800,  801,  802,  803,\n",
       "        804,  805,  806,  807,  808,  809,  810,  811,  812,  813,  814,\n",
       "        815,  816,  817,  818,  819,  820,  821,  822,  823,  824,  825,\n",
       "        826,  827,  828,  829,  830,  831,  832,  833,  834,  835,  836,\n",
       "        837,  838,  839,  840,  841,  842,  843,  844,  845,  846,  847,\n",
       "        848,  849,  850,  851,  852,  853,  854,  855,  856,  857,  858,\n",
       "        859,  860,  861,  862,  863,  864,  865,  866,  867,  868,  869,\n",
       "        870,  871,  872,  873,  874,  875,  876,  877,  878,  879,  880,\n",
       "        881,  882,  883,  884,  885,  886,  887,  888,  889,  890,  891,\n",
       "        892,  893,  894,  895,  896,  897,  898,  899,  900,  901,  902,\n",
       "        903,  904,  905,  906,  907,  908,  909,  910,  911,  912,  913,\n",
       "        914,  915,  916,  917,  918,  919,  920,  921,  922,  923,  924,\n",
       "        925,  926,  927,  928,  929,  930,  931,  932,  933,  934,  935,\n",
       "        936,  937,  938,  939,  940,  941,  942,  943,  944,  945,  946,\n",
       "        947,  948,  949,  950,  951,  952,  953,  954,  955,  956,  957,\n",
       "        958,  959,  960,  961,  962,  963,  964,  965,  966,  967,  968,\n",
       "        969,  970,  971,  972,  973,  974,  975,  976,  977,  978,  979,\n",
       "        980,  981,  982,  983,  984,  985,  986,  987,  988,  989,  990,\n",
       "        991,  992,  993,  994,  995,  996,  997,  998,  999, 1000])"
      ]
     },
     "execution_count": 44,
     "metadata": {},
     "output_type": "execute_result"
    }
   ],
   "source": [
    "bonds = np.arange(1,1001)\n",
    "bonds\n"
   ]
  },
  {
   "cell_type": "code",
   "execution_count": 49,
   "id": "7f449e32",
   "metadata": {},
   "outputs": [
    {
     "data": {
      "text/plain": [
       "array([913, 217, 830,  51, 128, 191, 778, 653, 162, 958, 736, 373, 215,\n",
       "        65, 676, 117, 556, 224, 864, 302, 564, 956, 264,   5, 488, 634,\n",
       "       732, 696, 367, 296, 920, 262, 188, 449, 412, 384, 952, 965, 617,\n",
       "       143,  49, 189, 423, 897, 904, 932, 897, 305, 560, 721, 618, 943,\n",
       "       752, 671, 953, 911,  52, 141, 869, 740,  43, 921, 415, 172,  30,\n",
       "       946, 133, 899, 736, 883, 362, 155, 398, 370, 489,   6, 100,  91,\n",
       "       394, 490, 300, 925,  51,  57, 382, 977, 798, 764, 167, 149, 696,\n",
       "       873, 394,   5, 735, 109, 809, 480, 894, 825])"
      ]
     },
     "execution_count": 49,
     "metadata": {},
     "output_type": "execute_result"
    }
   ],
   "source": [
    "winners= np.random.choice(bonds,100)\n",
    "winners"
   ]
  },
  {
   "cell_type": "code",
   "execution_count": 50,
   "id": "a5e92abd",
   "metadata": {},
   "outputs": [
    {
     "data": {
      "text/plain": [
       "array([False, False, False, False,  True,  True, False, False, False,\n",
       "       False, False, False, False, False, False, False, False, False,\n",
       "       False, False, False, False, False, False, False, False, False,\n",
       "       False, False,  True, False, False, False, False, False, False,\n",
       "       False, False, False, False, False, False,  True, False, False,\n",
       "       False, False, False,  True, False,  True,  True, False, False,\n",
       "       False, False,  True, False, False, False, False, False, False,\n",
       "       False,  True, False, False, False, False, False, False, False,\n",
       "       False, False, False, False, False, False, False, False, False,\n",
       "       False, False, False, False, False, False, False, False, False,\n",
       "        True, False, False, False, False, False, False, False, False,\n",
       "        True, False, False, False, False, False, False, False, False,\n",
       "        True, False, False, False, False, False, False, False,  True,\n",
       "       False, False, False, False, False, False, False, False, False,\n",
       "       False,  True, False, False, False, False,  True, False, False,\n",
       "       False, False, False, False, False,  True, False,  True, False,\n",
       "       False, False, False, False,  True, False, False, False, False,\n",
       "       False,  True, False, False, False, False, False, False,  True,\n",
       "       False, False, False, False,  True, False, False, False, False,\n",
       "        True, False, False, False, False, False, False, False, False,\n",
       "       False, False, False, False, False, False, False,  True,  True,\n",
       "       False,  True, False, False, False, False, False, False, False,\n",
       "       False, False, False, False, False, False, False, False, False,\n",
       "       False, False, False, False, False, False, False,  True, False,\n",
       "        True, False, False, False, False, False, False,  True, False,\n",
       "       False, False, False, False, False, False, False, False, False,\n",
       "       False, False, False, False, False, False, False, False, False,\n",
       "       False, False, False, False, False, False, False, False, False,\n",
       "       False, False, False, False, False, False, False, False, False,\n",
       "        True, False,  True, False, False, False, False, False, False,\n",
       "       False, False, False, False, False, False, False, False, False,\n",
       "       False, False, False, False, False, False, False, False, False,\n",
       "       False, False, False, False, False, False, False,  True, False,\n",
       "       False, False,  True, False,  True, False, False,  True, False,\n",
       "       False, False, False, False, False, False, False, False, False,\n",
       "       False, False, False, False, False, False, False, False, False,\n",
       "       False, False, False, False, False, False, False, False, False,\n",
       "       False, False, False, False, False, False, False, False, False,\n",
       "       False, False, False, False, False, False, False, False, False,\n",
       "       False, False, False, False, False, False, False, False, False,\n",
       "       False,  True, False, False, False, False,  True, False, False,\n",
       "        True, False, False,  True, False, False, False, False, False,\n",
       "       False, False, False,  True, False,  True, False, False, False,\n",
       "       False, False, False, False, False, False,  True, False, False,\n",
       "       False,  True, False, False, False, False, False, False, False,\n",
       "       False, False, False, False, False, False,  True, False, False,\n",
       "        True, False, False, False, False, False, False, False,  True,\n",
       "       False, False, False, False, False, False, False, False, False,\n",
       "       False, False, False, False, False, False, False, False, False,\n",
       "       False, False, False, False, False, False, False,  True, False,\n",
       "       False, False, False, False, False, False, False, False, False,\n",
       "       False, False, False, False, False, False, False, False, False,\n",
       "       False, False, False, False, False, False, False, False, False,\n",
       "       False, False,  True, False, False, False, False, False, False,\n",
       "       False,  True,  True,  True, False, False, False, False, False,\n",
       "       False, False, False, False, False, False, False, False, False,\n",
       "       False, False, False, False, False, False, False, False, False,\n",
       "       False, False, False, False, False, False, False, False, False,\n",
       "       False, False, False, False, False, False, False, False, False,\n",
       "       False, False, False, False, False, False, False, False, False,\n",
       "       False, False, False, False, False, False, False, False, False,\n",
       "       False, False, False, False, False, False,  True, False, False,\n",
       "       False,  True, False, False, False,  True, False, False, False,\n",
       "       False, False, False, False, False, False, False, False, False,\n",
       "       False, False, False, False, False, False, False, False, False,\n",
       "       False, False, False, False, False, False, False, False, False,\n",
       "       False, False, False, False, False, False, False, False, False,\n",
       "       False, False, False, False, False, False, False, False, False,\n",
       "       False, False, False, False,  True,  True, False, False, False,\n",
       "       False, False, False, False, False, False, False, False, False,\n",
       "       False, False, False,  True, False, False, False, False, False,\n",
       "       False, False, False, False, False, False, False, False, False,\n",
       "       False, False, False, False,  True, False, False, False, False,\n",
       "       False, False, False, False, False, False, False, False, False,\n",
       "       False, False, False, False,  True, False, False, False, False,\n",
       "        True, False, False, False, False, False, False, False, False,\n",
       "       False, False, False, False, False, False, False, False, False,\n",
       "       False, False,  True, False, False, False, False, False, False,\n",
       "       False, False, False, False, False, False, False, False, False,\n",
       "       False, False, False, False, False, False, False, False, False,\n",
       "        True, False, False, False, False, False, False, False, False,\n",
       "       False, False,  True, False, False,  True,  True, False, False,\n",
       "       False,  True, False, False, False, False, False, False, False,\n",
       "       False, False, False, False,  True, False, False, False, False,\n",
       "       False, False, False, False, False, False, False,  True, False,\n",
       "       False, False, False, False, False, False, False, False, False,\n",
       "       False, False, False,  True, False, False, False, False, False,\n",
       "       False, False, False, False, False, False, False, False, False,\n",
       "       False, False, False, False, False,  True, False, False, False,\n",
       "       False, False, False, False, False, False, False,  True, False,\n",
       "       False, False, False, False, False, False, False, False, False,\n",
       "       False, False, False, False, False,  True, False, False, False,\n",
       "       False,  True, False, False, False, False, False, False, False,\n",
       "       False, False, False, False, False, False, False, False, False,\n",
       "       False, False, False, False, False, False, False, False, False,\n",
       "       False, False, False, False, False, False, False, False,  True,\n",
       "       False, False, False, False,  True, False, False, False,  True,\n",
       "       False, False, False, False, False, False, False, False, False,\n",
       "        True, False, False, False, False, False, False, False, False,\n",
       "       False, False,  True, False, False,  True, False,  True, False,\n",
       "       False, False, False,  True, False, False, False, False, False,\n",
       "       False,  True, False,  True, False, False, False, False, False,\n",
       "       False,  True,  True, False, False, False,  True, False, False,\n",
       "       False, False, False, False,  True, False, False, False, False,\n",
       "       False, False, False, False, False, False,  True, False, False,\n",
       "        True, False, False, False, False, False,  True,  True, False,\n",
       "       False,  True, False,  True, False, False, False, False, False,\n",
       "       False,  True, False, False, False, False, False, False, False,\n",
       "       False, False, False, False,  True, False, False, False, False,\n",
       "       False, False, False, False, False, False, False, False, False,\n",
       "       False, False, False, False, False, False, False, False, False,\n",
       "       False])"
      ]
     },
     "execution_count": 50,
     "metadata": {},
     "output_type": "execute_result"
    }
   ],
   "source": [
    "np.in1d(bonds, winners)"
   ]
  },
  {
   "cell_type": "code",
   "execution_count": 51,
   "id": "c6f5e9ab",
   "metadata": {},
   "outputs": [
    {
     "data": {
      "text/plain": [
       "array(['loser', 'loser', 'loser', 'loser', 'Winner', 'Winner', 'loser',\n",
       "       'loser', 'loser', 'loser', 'loser', 'loser', 'loser', 'loser',\n",
       "       'loser', 'loser', 'loser', 'loser', 'loser', 'loser', 'loser',\n",
       "       'loser', 'loser', 'loser', 'loser', 'loser', 'loser', 'loser',\n",
       "       'loser', 'Winner', 'loser', 'loser', 'loser', 'loser', 'loser',\n",
       "       'loser', 'loser', 'loser', 'loser', 'loser', 'loser', 'loser',\n",
       "       'Winner', 'loser', 'loser', 'loser', 'loser', 'loser', 'Winner',\n",
       "       'loser', 'Winner', 'Winner', 'loser', 'loser', 'loser', 'loser',\n",
       "       'Winner', 'loser', 'loser', 'loser', 'loser', 'loser', 'loser',\n",
       "       'loser', 'Winner', 'loser', 'loser', 'loser', 'loser', 'loser',\n",
       "       'loser', 'loser', 'loser', 'loser', 'loser', 'loser', 'loser',\n",
       "       'loser', 'loser', 'loser', 'loser', 'loser', 'loser', 'loser',\n",
       "       'loser', 'loser', 'loser', 'loser', 'loser', 'loser', 'Winner',\n",
       "       'loser', 'loser', 'loser', 'loser', 'loser', 'loser', 'loser',\n",
       "       'loser', 'Winner', 'loser', 'loser', 'loser', 'loser', 'loser',\n",
       "       'loser', 'loser', 'loser', 'Winner', 'loser', 'loser', 'loser',\n",
       "       'loser', 'loser', 'loser', 'loser', 'Winner', 'loser', 'loser',\n",
       "       'loser', 'loser', 'loser', 'loser', 'loser', 'loser', 'loser',\n",
       "       'loser', 'Winner', 'loser', 'loser', 'loser', 'loser', 'Winner',\n",
       "       'loser', 'loser', 'loser', 'loser', 'loser', 'loser', 'loser',\n",
       "       'Winner', 'loser', 'Winner', 'loser', 'loser', 'loser', 'loser',\n",
       "       'loser', 'Winner', 'loser', 'loser', 'loser', 'loser', 'loser',\n",
       "       'Winner', 'loser', 'loser', 'loser', 'loser', 'loser', 'loser',\n",
       "       'Winner', 'loser', 'loser', 'loser', 'loser', 'Winner', 'loser',\n",
       "       'loser', 'loser', 'loser', 'Winner', 'loser', 'loser', 'loser',\n",
       "       'loser', 'loser', 'loser', 'loser', 'loser', 'loser', 'loser',\n",
       "       'loser', 'loser', 'loser', 'loser', 'loser', 'Winner', 'Winner',\n",
       "       'loser', 'Winner', 'loser', 'loser', 'loser', 'loser', 'loser',\n",
       "       'loser', 'loser', 'loser', 'loser', 'loser', 'loser', 'loser',\n",
       "       'loser', 'loser', 'loser', 'loser', 'loser', 'loser', 'loser',\n",
       "       'loser', 'loser', 'loser', 'loser', 'Winner', 'loser', 'Winner',\n",
       "       'loser', 'loser', 'loser', 'loser', 'loser', 'loser', 'Winner',\n",
       "       'loser', 'loser', 'loser', 'loser', 'loser', 'loser', 'loser',\n",
       "       'loser', 'loser', 'loser', 'loser', 'loser', 'loser', 'loser',\n",
       "       'loser', 'loser', 'loser', 'loser', 'loser', 'loser', 'loser',\n",
       "       'loser', 'loser', 'loser', 'loser', 'loser', 'loser', 'loser',\n",
       "       'loser', 'loser', 'loser', 'loser', 'loser', 'loser', 'loser',\n",
       "       'loser', 'loser', 'Winner', 'loser', 'Winner', 'loser', 'loser',\n",
       "       'loser', 'loser', 'loser', 'loser', 'loser', 'loser', 'loser',\n",
       "       'loser', 'loser', 'loser', 'loser', 'loser', 'loser', 'loser',\n",
       "       'loser', 'loser', 'loser', 'loser', 'loser', 'loser', 'loser',\n",
       "       'loser', 'loser', 'loser', 'loser', 'loser', 'loser', 'loser',\n",
       "       'loser', 'Winner', 'loser', 'loser', 'loser', 'Winner', 'loser',\n",
       "       'Winner', 'loser', 'loser', 'Winner', 'loser', 'loser', 'loser',\n",
       "       'loser', 'loser', 'loser', 'loser', 'loser', 'loser', 'loser',\n",
       "       'loser', 'loser', 'loser', 'loser', 'loser', 'loser', 'loser',\n",
       "       'loser', 'loser', 'loser', 'loser', 'loser', 'loser', 'loser',\n",
       "       'loser', 'loser', 'loser', 'loser', 'loser', 'loser', 'loser',\n",
       "       'loser', 'loser', 'loser', 'loser', 'loser', 'loser', 'loser',\n",
       "       'loser', 'loser', 'loser', 'loser', 'loser', 'loser', 'loser',\n",
       "       'loser', 'loser', 'loser', 'loser', 'loser', 'loser', 'loser',\n",
       "       'loser', 'loser', 'loser', 'loser', 'Winner', 'loser', 'loser',\n",
       "       'loser', 'loser', 'Winner', 'loser', 'loser', 'Winner', 'loser',\n",
       "       'loser', 'Winner', 'loser', 'loser', 'loser', 'loser', 'loser',\n",
       "       'loser', 'loser', 'loser', 'Winner', 'loser', 'Winner', 'loser',\n",
       "       'loser', 'loser', 'loser', 'loser', 'loser', 'loser', 'loser',\n",
       "       'loser', 'Winner', 'loser', 'loser', 'loser', 'Winner', 'loser',\n",
       "       'loser', 'loser', 'loser', 'loser', 'loser', 'loser', 'loser',\n",
       "       'loser', 'loser', 'loser', 'loser', 'loser', 'Winner', 'loser',\n",
       "       'loser', 'Winner', 'loser', 'loser', 'loser', 'loser', 'loser',\n",
       "       'loser', 'loser', 'Winner', 'loser', 'loser', 'loser', 'loser',\n",
       "       'loser', 'loser', 'loser', 'loser', 'loser', 'loser', 'loser',\n",
       "       'loser', 'loser', 'loser', 'loser', 'loser', 'loser', 'loser',\n",
       "       'loser', 'loser', 'loser', 'loser', 'loser', 'loser', 'loser',\n",
       "       'Winner', 'loser', 'loser', 'loser', 'loser', 'loser', 'loser',\n",
       "       'loser', 'loser', 'loser', 'loser', 'loser', 'loser', 'loser',\n",
       "       'loser', 'loser', 'loser', 'loser', 'loser', 'loser', 'loser',\n",
       "       'loser', 'loser', 'loser', 'loser', 'loser', 'loser', 'loser',\n",
       "       'loser', 'loser', 'loser', 'Winner', 'loser', 'loser', 'loser',\n",
       "       'loser', 'loser', 'loser', 'loser', 'Winner', 'Winner', 'Winner',\n",
       "       'loser', 'loser', 'loser', 'loser', 'loser', 'loser', 'loser',\n",
       "       'loser', 'loser', 'loser', 'loser', 'loser', 'loser', 'loser',\n",
       "       'loser', 'loser', 'loser', 'loser', 'loser', 'loser', 'loser',\n",
       "       'loser', 'loser', 'loser', 'loser', 'loser', 'loser', 'loser',\n",
       "       'loser', 'loser', 'loser', 'loser', 'loser', 'loser', 'loser',\n",
       "       'loser', 'loser', 'loser', 'loser', 'loser', 'loser', 'loser',\n",
       "       'loser', 'loser', 'loser', 'loser', 'loser', 'loser', 'loser',\n",
       "       'loser', 'loser', 'loser', 'loser', 'loser', 'loser', 'loser',\n",
       "       'loser', 'loser', 'loser', 'loser', 'loser', 'loser', 'loser',\n",
       "       'loser', 'loser', 'Winner', 'loser', 'loser', 'loser', 'Winner',\n",
       "       'loser', 'loser', 'loser', 'Winner', 'loser', 'loser', 'loser',\n",
       "       'loser', 'loser', 'loser', 'loser', 'loser', 'loser', 'loser',\n",
       "       'loser', 'loser', 'loser', 'loser', 'loser', 'loser', 'loser',\n",
       "       'loser', 'loser', 'loser', 'loser', 'loser', 'loser', 'loser',\n",
       "       'loser', 'loser', 'loser', 'loser', 'loser', 'loser', 'loser',\n",
       "       'loser', 'loser', 'loser', 'loser', 'loser', 'loser', 'loser',\n",
       "       'loser', 'loser', 'loser', 'loser', 'loser', 'loser', 'loser',\n",
       "       'loser', 'loser', 'loser', 'loser', 'loser', 'loser', 'loser',\n",
       "       'Winner', 'Winner', 'loser', 'loser', 'loser', 'loser', 'loser',\n",
       "       'loser', 'loser', 'loser', 'loser', 'loser', 'loser', 'loser',\n",
       "       'loser', 'loser', 'loser', 'Winner', 'loser', 'loser', 'loser',\n",
       "       'loser', 'loser', 'loser', 'loser', 'loser', 'loser', 'loser',\n",
       "       'loser', 'loser', 'loser', 'loser', 'loser', 'loser', 'loser',\n",
       "       'loser', 'Winner', 'loser', 'loser', 'loser', 'loser', 'loser',\n",
       "       'loser', 'loser', 'loser', 'loser', 'loser', 'loser', 'loser',\n",
       "       'loser', 'loser', 'loser', 'loser', 'loser', 'Winner', 'loser',\n",
       "       'loser', 'loser', 'loser', 'Winner', 'loser', 'loser', 'loser',\n",
       "       'loser', 'loser', 'loser', 'loser', 'loser', 'loser', 'loser',\n",
       "       'loser', 'loser', 'loser', 'loser', 'loser', 'loser', 'loser',\n",
       "       'loser', 'loser', 'Winner', 'loser', 'loser', 'loser', 'loser',\n",
       "       'loser', 'loser', 'loser', 'loser', 'loser', 'loser', 'loser',\n",
       "       'loser', 'loser', 'loser', 'loser', 'loser', 'loser', 'loser',\n",
       "       'loser', 'loser', 'loser', 'loser', 'loser', 'loser', 'Winner',\n",
       "       'loser', 'loser', 'loser', 'loser', 'loser', 'loser', 'loser',\n",
       "       'loser', 'loser', 'loser', 'Winner', 'loser', 'loser', 'Winner',\n",
       "       'Winner', 'loser', 'loser', 'loser', 'Winner', 'loser', 'loser',\n",
       "       'loser', 'loser', 'loser', 'loser', 'loser', 'loser', 'loser',\n",
       "       'loser', 'loser', 'Winner', 'loser', 'loser', 'loser', 'loser',\n",
       "       'loser', 'loser', 'loser', 'loser', 'loser', 'loser', 'loser',\n",
       "       'Winner', 'loser', 'loser', 'loser', 'loser', 'loser', 'loser',\n",
       "       'loser', 'loser', 'loser', 'loser', 'loser', 'loser', 'loser',\n",
       "       'Winner', 'loser', 'loser', 'loser', 'loser', 'loser', 'loser',\n",
       "       'loser', 'loser', 'loser', 'loser', 'loser', 'loser', 'loser',\n",
       "       'loser', 'loser', 'loser', 'loser', 'loser', 'loser', 'Winner',\n",
       "       'loser', 'loser', 'loser', 'loser', 'loser', 'loser', 'loser',\n",
       "       'loser', 'loser', 'loser', 'Winner', 'loser', 'loser', 'loser',\n",
       "       'loser', 'loser', 'loser', 'loser', 'loser', 'loser', 'loser',\n",
       "       'loser', 'loser', 'loser', 'loser', 'loser', 'Winner', 'loser',\n",
       "       'loser', 'loser', 'loser', 'Winner', 'loser', 'loser', 'loser',\n",
       "       'loser', 'loser', 'loser', 'loser', 'loser', 'loser', 'loser',\n",
       "       'loser', 'loser', 'loser', 'loser', 'loser', 'loser', 'loser',\n",
       "       'loser', 'loser', 'loser', 'loser', 'loser', 'loser', 'loser',\n",
       "       'loser', 'loser', 'loser', 'loser', 'loser', 'loser', 'loser',\n",
       "       'loser', 'loser', 'Winner', 'loser', 'loser', 'loser', 'loser',\n",
       "       'Winner', 'loser', 'loser', 'loser', 'Winner', 'loser', 'loser',\n",
       "       'loser', 'loser', 'loser', 'loser', 'loser', 'loser', 'loser',\n",
       "       'Winner', 'loser', 'loser', 'loser', 'loser', 'loser', 'loser',\n",
       "       'loser', 'loser', 'loser', 'loser', 'Winner', 'loser', 'loser',\n",
       "       'Winner', 'loser', 'Winner', 'loser', 'loser', 'loser', 'loser',\n",
       "       'Winner', 'loser', 'loser', 'loser', 'loser', 'loser', 'loser',\n",
       "       'Winner', 'loser', 'Winner', 'loser', 'loser', 'loser', 'loser',\n",
       "       'loser', 'loser', 'Winner', 'Winner', 'loser', 'loser', 'loser',\n",
       "       'Winner', 'loser', 'loser', 'loser', 'loser', 'loser', 'loser',\n",
       "       'Winner', 'loser', 'loser', 'loser', 'loser', 'loser', 'loser',\n",
       "       'loser', 'loser', 'loser', 'loser', 'Winner', 'loser', 'loser',\n",
       "       'Winner', 'loser', 'loser', 'loser', 'loser', 'loser', 'Winner',\n",
       "       'Winner', 'loser', 'loser', 'Winner', 'loser', 'Winner', 'loser',\n",
       "       'loser', 'loser', 'loser', 'loser', 'loser', 'Winner', 'loser',\n",
       "       'loser', 'loser', 'loser', 'loser', 'loser', 'loser', 'loser',\n",
       "       'loser', 'loser', 'loser', 'Winner', 'loser', 'loser', 'loser',\n",
       "       'loser', 'loser', 'loser', 'loser', 'loser', 'loser', 'loser',\n",
       "       'loser', 'loser', 'loser', 'loser', 'loser', 'loser', 'loser',\n",
       "       'loser', 'loser', 'loser', 'loser', 'loser', 'loser'], dtype='<U6')"
      ]
     },
     "execution_count": 51,
     "metadata": {},
     "output_type": "execute_result"
    }
   ],
   "source": [
    "np.where(np.in1d(bonds, winners),\"Winner\",\"loser\")"
   ]
  },
  {
   "cell_type": "markdown",
   "id": "59508d4f",
   "metadata": {},
   "source": [
    "# Pandas\n",
    "column name = column index\n",
    "row name = row index\n",
    "entire column = series\n",
    "    date series, string series, number series\n",
    "    #pv.series\n",
    "entire row = series\n",
    "more than one column = data frame\n",
    "more than one row = data frame\n",
    "cell = object\n",
    "object has attributes (characteristics) and methods (functions)"
   ]
  },
  {
   "cell_type": "markdown",
   "id": "55d90409",
   "metadata": {},
   "source": [
    "##series\n",
    "* int\n",
    "* float\n",
    "* date\n",
    "* object/str\n",
    "* boolean\n"
   ]
  },
  {
   "cell_type": "code",
   "execution_count": 54,
   "id": "d2e0fb82",
   "metadata": {},
   "outputs": [
    {
     "data": {
      "text/plain": [
       "['a', 'b', 'c', 'd']"
      ]
     },
     "execution_count": 54,
     "metadata": {},
     "output_type": "execute_result"
    }
   ],
   "source": [
    "[\"a\",\"b\",\"c\",\"d\"]"
   ]
  },
  {
   "cell_type": "code",
   "execution_count": 58,
   "id": "68c6a1a1",
   "metadata": {},
   "outputs": [],
   "source": [
    "import pandas as pd"
   ]
  },
  {
   "cell_type": "code",
   "execution_count": 60,
   "id": "e0652626",
   "metadata": {},
   "outputs": [
    {
     "data": {
      "text/plain": [
       "0    a\n",
       "1    b\n",
       "2    c\n",
       "3    d\n",
       "dtype: object"
      ]
     },
     "execution_count": 60,
     "metadata": {},
     "output_type": "execute_result"
    }
   ],
   "source": [
    "a = pd.Series((\"a\",\"b\",\"c\",\"d\"))\n",
    "a"
   ]
  },
  {
   "cell_type": "code",
   "execution_count": 61,
   "id": "906e0269",
   "metadata": {},
   "outputs": [
    {
     "data": {
      "text/plain": [
       "0    1\n",
       "1    2\n",
       "2    3\n",
       "3    4\n",
       "dtype: int64"
      ]
     },
     "execution_count": 61,
     "metadata": {},
     "output_type": "execute_result"
    }
   ],
   "source": [
    "a = pd.Series((1,2,3,4))\n",
    "a"
   ]
  },
  {
   "cell_type": "code",
   "execution_count": 98,
   "id": "1e1f4a3a",
   "metadata": {},
   "outputs": [
    {
     "ename": "NameError",
     "evalue": "name 'd' is not defined",
     "output_type": "error",
     "traceback": [
      "\u001b[1;31m---------------------------------------------------------------------------\u001b[0m",
      "\u001b[1;31mNameError\u001b[0m                                 Traceback (most recent call last)",
      "\u001b[1;32m~\\AppData\\Local\\Temp/ipykernel_5176/1455611325.py\u001b[0m in \u001b[0;36m<module>\u001b[1;34m\u001b[0m\n\u001b[1;32m----> 1\u001b[1;33m \u001b[0ma\u001b[0m \u001b[1;33m=\u001b[0m \u001b[0mpd\u001b[0m\u001b[1;33m.\u001b[0m\u001b[0mSeries\u001b[0m\u001b[1;33m(\u001b[0m\u001b[1;33m[\u001b[0m\u001b[1;36m1\u001b[0m\u001b[1;33m,\u001b[0m\u001b[1;36m2\u001b[0m\u001b[1;33m,\u001b[0m\u001b[1;36m3\u001b[0m\u001b[1;33m,\u001b[0m\u001b[1;36m4\u001b[0m\u001b[1;33m]\u001b[0m\u001b[1;33m,\u001b[0m \u001b[1;33m[\u001b[0m\u001b[0ma\u001b[0m\u001b[1;33m,\u001b[0m\u001b[0mb\u001b[0m\u001b[1;33m,\u001b[0m\u001b[0mc\u001b[0m\u001b[1;33m,\u001b[0m\u001b[0md\u001b[0m\u001b[1;33m]\u001b[0m\u001b[1;33m)\u001b[0m\u001b[1;33m\u001b[0m\u001b[1;33m\u001b[0m\u001b[0m\n\u001b[0m\u001b[0;32m      2\u001b[0m \u001b[0ma\u001b[0m\u001b[1;33m\u001b[0m\u001b[1;33m\u001b[0m\u001b[0m\n",
      "\u001b[1;31mNameError\u001b[0m: name 'd' is not defined"
     ]
    }
   ],
   "source": [
    "a = pd.Series([1,2,3,4], [a,b,c,d])\n",
    "a"
   ]
  },
  {
   "cell_type": "code",
   "execution_count": 76,
   "id": "61f13767",
   "metadata": {},
   "outputs": [
    {
     "data": {
      "text/plain": [
       "0     65\n",
       "1     66\n",
       "2     67\n",
       "3     68\n",
       "4     69\n",
       "5     70\n",
       "6     71\n",
       "7     72\n",
       "8     73\n",
       "9     74\n",
       "10    75\n",
       "11    76\n",
       "12    77\n",
       "13    78\n",
       "14    79\n",
       "15    80\n",
       "16    81\n",
       "17    82\n",
       "18    83\n",
       "19    84\n",
       "20    85\n",
       "21    86\n",
       "22    87\n",
       "23    88\n",
       "24    89\n",
       "25    90\n",
       "dtype: int64"
      ]
     },
     "execution_count": 76,
     "metadata": {},
     "output_type": "execute_result"
    }
   ],
   "source": [
    "pd.Series(range(65,91))"
   ]
  },
  {
   "cell_type": "code",
   "execution_count": 99,
   "id": "02789c46",
   "metadata": {},
   "outputs": [
    {
     "name": "stdout",
     "output_type": "stream",
     "text": [
      "city codes 0     3\n",
      "1     2\n",
      "2     3\n",
      "3     4\n",
      "4     3\n",
      "5     1\n",
      "6     2\n",
      "7     1\n",
      "8     3\n",
      "9     1\n",
      "10    1\n",
      "11    4\n",
      "12    2\n",
      "13    1\n",
      "14    2\n",
      "15    4\n",
      "16    2\n",
      "17    4\n",
      "18    3\n",
      "19    3\n",
      "dtype: int32\n",
      "city mapping {1: 'Furqan', 2: 'Hasnain', 3: 'Kamran', 4: 'Faheem', 5: 'Shaheer'}\n"
     ]
    },
    {
     "data": {
      "text/plain": [
       "0      Kamran\n",
       "1     Hasnain\n",
       "2      Kamran\n",
       "3      Faheem\n",
       "4      Kamran\n",
       "5      Furqan\n",
       "6     Hasnain\n",
       "7      Furqan\n",
       "8      Kamran\n",
       "9      Furqan\n",
       "10     Furqan\n",
       "11     Faheem\n",
       "12    Hasnain\n",
       "13     Furqan\n",
       "14    Hasnain\n",
       "15     Faheem\n",
       "16    Hasnain\n",
       "17     Faheem\n",
       "18     Kamran\n",
       "19     Kamran\n",
       "dtype: object"
      ]
     },
     "execution_count": 99,
     "metadata": {},
     "output_type": "execute_result"
    }
   ],
   "source": [
    "city_codes = pd.Series(np.random.randint(1,5,20))\n",
    "print(\"city codes\",city_codes)\n",
    "\n",
    "city_mapping = {\n",
    "    1:\"Furqan\",\n",
    "    2:\"Hasnain\",\n",
    "    3:\"Kamran\",\n",
    "    4:\"Faheem\",\n",
    "    5:\"Shaheer\"\n",
    "}\n",
    "print(\"city mapping\",city_mapping)\n",
    "\n",
    "city_codes.map(city_mapping)"
   ]
  },
  {
   "cell_type": "code",
   "execution_count": 81,
   "id": "df8cd375",
   "metadata": {},
   "outputs": [
    {
     "name": "stdout",
     "output_type": "stream",
     "text": [
      "city codes 0     3\n",
      "1     4\n",
      "2     1\n",
      "3     1\n",
      "4     2\n",
      "5     4\n",
      "6     1\n",
      "7     2\n",
      "8     4\n",
      "9     4\n",
      "10    4\n",
      "11    4\n",
      "12    4\n",
      "13    1\n",
      "14    3\n",
      "15    4\n",
      "16    4\n",
      "17    3\n",
      "18    4\n",
      "19    2\n",
      "dtype: int32\n"
     ]
    }
   ],
   "source": [
    "city_codes = pd.Series(np.random.randint(1,5,20))\n",
    "print(\"city codes\",city_codes)"
   ]
  },
  {
   "cell_type": "code",
   "execution_count": 100,
   "id": "f4040f98",
   "metadata": {},
   "outputs": [
    {
     "name": "stdout",
     "output_type": "stream",
     "text": [
      "city mapping {1: 'Furqan', 2: 'Talib', 3: 'Kamran', 4: 'Faheem', 5: 'Shaheer'}\n"
     ]
    }
   ],
   "source": [
    "city_mapping = {\n",
    "    1:\"Furqan\",\n",
    "    2:\"Talib\",\n",
    "    3:\"Kamran\",\n",
    "    4:\"Faheem\",\n",
    "    5:\"Shaheer\"\n",
    "}\n",
    "print(\"city mapping\",city_mapping)\n"
   ]
  },
  {
   "cell_type": "code",
   "execution_count": 85,
   "id": "61eb4620",
   "metadata": {},
   "outputs": [
    {
     "data": {
      "text/plain": [
       "0    I love my country, abc Pakistan zinda bad\n",
       "1    I love my country, ICAP Pakistan zindabad\n",
       "2       I love my country, ICAP best institute\n",
       "dtype: object"
      ]
     },
     "execution_count": 85,
     "metadata": {},
     "output_type": "execute_result"
    }
   ],
   "source": [
    "messages = pd.Series([\n",
    "    \"I love my country, abc Pakistan zinda bad\",\n",
    "    \"I love my country, ICAP and Pakistan zindabad\",\n",
    "    \"I love my country, ICAP best institute\"\n",
    "])\n",
    "messages"
   ]
  },
  {
   "cell_type": "code",
   "execution_count": 86,
   "id": "47875548",
   "metadata": {},
   "outputs": [],
   "source": [
    "def fn_find_icap(x):\n",
    "    x = x.lower()\n",
    "    if \"icap\" in x:\n",
    "        return \"ICAP\"\n",
    "icap_check = messages.apply(fn_find_icap)"
   ]
  },
  {
   "cell_type": "code",
   "execution_count": 87,
   "id": "ea3e2c37",
   "metadata": {},
   "outputs": [
    {
     "data": {
      "text/plain": [
       "0    None\n",
       "1    ICAP\n",
       "2    ICAP\n",
       "dtype: object"
      ]
     },
     "execution_count": 87,
     "metadata": {},
     "output_type": "execute_result"
    }
   ],
   "source": [
    "icap_check"
   ]
  },
  {
   "cell_type": "code",
   "execution_count": 93,
   "id": "e577f4ce",
   "metadata": {},
   "outputs": [
    {
     "data": {
      "text/plain": [
       "0    None\n",
       "1    ICAP\n",
       "2    None\n",
       "dtype: object"
      ]
     },
     "execution_count": 93,
     "metadata": {},
     "output_type": "execute_result"
    }
   ],
   "source": [
    "def fn_find_icap(x):\n",
    "    x = x.lower()\n",
    "    if ((\"icap\" in x) and (\"pakistan\" in x)) :\n",
    "        return \"ICAP\"\n",
    "icap_check = messages.apply(fn_find_icap)\n",
    "icap_check"
   ]
  },
  {
   "cell_type": "code",
   "execution_count": 94,
   "id": "018b7f40",
   "metadata": {},
   "outputs": [
    {
     "data": {
      "text/html": [
       "<div>\n",
       "<style scoped>\n",
       "    .dataframe tbody tr th:only-of-type {\n",
       "        vertical-align: middle;\n",
       "    }\n",
       "\n",
       "    .dataframe tbody tr th {\n",
       "        vertical-align: top;\n",
       "    }\n",
       "\n",
       "    .dataframe thead th {\n",
       "        text-align: right;\n",
       "    }\n",
       "</style>\n",
       "<table border=\"1\" class=\"dataframe\">\n",
       "  <thead>\n",
       "    <tr style=\"text-align: right;\">\n",
       "      <th></th>\n",
       "      <th>0</th>\n",
       "      <th>1</th>\n",
       "    </tr>\n",
       "  </thead>\n",
       "  <tbody>\n",
       "    <tr>\n",
       "      <th>0</th>\n",
       "      <td>I love my country, abc Pakistan zinda bad</td>\n",
       "      <td>None</td>\n",
       "    </tr>\n",
       "    <tr>\n",
       "      <th>1</th>\n",
       "      <td>I love my country, ICAP Pakistan zindabad</td>\n",
       "      <td>ICAP</td>\n",
       "    </tr>\n",
       "    <tr>\n",
       "      <th>2</th>\n",
       "      <td>I love my country, ICAP best institute</td>\n",
       "      <td>None</td>\n",
       "    </tr>\n",
       "  </tbody>\n",
       "</table>\n",
       "</div>"
      ],
      "text/plain": [
       "                                           0     1\n",
       "0  I love my country, abc Pakistan zinda bad  None\n",
       "1  I love my country, ICAP Pakistan zindabad  ICAP\n",
       "2     I love my country, ICAP best institute  None"
      ]
     },
     "execution_count": 94,
     "metadata": {},
     "output_type": "execute_result"
    }
   ],
   "source": [
    "pd.concat([messages,icap_check], axis=1)"
   ]
  },
  {
   "cell_type": "code",
   "execution_count": 95,
   "id": "7a657309",
   "metadata": {},
   "outputs": [
    {
     "data": {
      "text/plain": [
       "0    I love my country, abc Pakistan zinda bad\n",
       "1    I love my country, ICAP Pakistan zindabad\n",
       "2       I love my country, ICAP best institute\n",
       "0                                         None\n",
       "1                                         ICAP\n",
       "2                                         None\n",
       "dtype: object"
      ]
     },
     "execution_count": 95,
     "metadata": {},
     "output_type": "execute_result"
    }
   ],
   "source": [
    "pd.concat([messages,icap_check], axis=0)"
   ]
  },
  {
   "cell_type": "code",
   "execution_count": 97,
   "id": "90dde011",
   "metadata": {},
   "outputs": [
    {
     "data": {
      "text/plain": [
       "0    I love my country, abc Pakistan zinda bad\n",
       "1    I love my country, ICAP Pakistan zindabad\n",
       "2       I love my country, ICAP best institute\n",
       "0                                         None\n",
       "1                                         ICAP\n",
       "2                                         None\n",
       "dtype: object"
      ]
     },
     "execution_count": 97,
     "metadata": {},
     "output_type": "execute_result"
    }
   ],
   "source": [
    "pd.concat([messages,icap_check])"
   ]
  },
  {
   "cell_type": "code",
   "execution_count": null,
   "id": "ca2ff9f4",
   "metadata": {},
   "outputs": [],
   "source": []
  }
 ],
 "metadata": {
  "kernelspec": {
   "display_name": "Python 3 (ipykernel)",
   "language": "python",
   "name": "python3"
  },
  "language_info": {
   "codemirror_mode": {
    "name": "ipython",
    "version": 3
   },
   "file_extension": ".py",
   "mimetype": "text/x-python",
   "name": "python",
   "nbconvert_exporter": "python",
   "pygments_lexer": "ipython3",
   "version": "3.9.7"
  }
 },
 "nbformat": 4,
 "nbformat_minor": 5
}
