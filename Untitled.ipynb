{
 "cells": [
  {
   "cell_type": "code",
   "execution_count": 1,
   "id": "ade981ef",
   "metadata": {},
   "outputs": [
    {
     "name": "stdout",
     "output_type": "stream",
     "text": [
      "Jupyter\n"
     ]
    }
   ],
   "source": [
    "print(\"Jupyter\")"
   ]
  },
  {
   "cell_type": "markdown",
   "id": "bca52723",
   "metadata": {},
   "source": [
    "Markdown is for writing remarks etc. in code output format"
   ]
  },
  {
   "cell_type": "raw",
   "id": "e608f45f",
   "metadata": {},
   "source": [
    "Raw NB Convert is for writing text etc. in cell"
   ]
  },
  {
   "cell_type": "markdown",
   "id": "d4af86f6",
   "metadata": {},
   "source": [
    "# Headings used for headings"
   ]
  },
  {
   "cell_type": "code",
   "execution_count": 3,
   "id": "d5e19e7f",
   "metadata": {},
   "outputs": [
    {
     "name": "stdout",
     "output_type": "stream",
     "text": [
      "This is \"Pakistan\", land of pure\n"
     ]
    }
   ],
   "source": [
    "print('This is \"Pakistan\", land of pure')"
   ]
  },
  {
   "cell_type": "code",
   "execution_count": 4,
   "id": "335ad64c",
   "metadata": {},
   "outputs": [
    {
     "name": "stdout",
     "output_type": "stream",
     "text": [
      "prime number 1 3\n"
     ]
    }
   ],
   "source": [
    "print(\"prime number\",1,1+2)"
   ]
  },
  {
   "cell_type": "code",
   "execution_count": 7,
   "id": "5a600625",
   "metadata": {},
   "outputs": [
    {
     "name": "stdout",
     "output_type": "stream",
     "text": [
      "Muhammad Furqan\n"
     ]
    }
   ],
   "source": [
    "print(\"Muhammad\",\"Furqan\")"
   ]
  },
  {
   "cell_type": "code",
   "execution_count": 14,
   "id": "6c419a94",
   "metadata": {},
   "outputs": [
    {
     "name": "stdout",
     "output_type": "stream",
     "text": [
      "MuhammadFurqan\n"
     ]
    }
   ],
   "source": [
    "print(\"Muhammad\", end=\"\")\n",
    "print(\"Furqan\")"
   ]
  },
  {
   "cell_type": "code",
   "execution_count": 17,
   "id": "83beef38",
   "metadata": {},
   "outputs": [],
   "source": [
    "variable1 = \"Muhammad Furqan\"\n",
    "variable2 = \"Muhammad Feroz\""
   ]
  },
  {
   "cell_type": "code",
   "execution_count": 23,
   "id": "276b7c8f",
   "metadata": {},
   "outputs": [
    {
     "data": {
      "text/plain": [
       "'Muhammad Furqan'"
      ]
     },
     "execution_count": 23,
     "metadata": {},
     "output_type": "execute_result"
    }
   ],
   "source": [
    "variable1"
   ]
  },
  {
   "cell_type": "code",
   "execution_count": 25,
   "id": "4276fa5f",
   "metadata": {},
   "outputs": [
    {
     "data": {
      "text/plain": [
       "'Muhammad Furqan Muhammad Feroz'"
      ]
     },
     "execution_count": 25,
     "metadata": {},
     "output_type": "execute_result"
    }
   ],
   "source": [
    "variable1+\" \"+variable2"
   ]
  },
  {
   "cell_type": "code",
   "execution_count": 26,
   "id": "905ff257",
   "metadata": {},
   "outputs": [
    {
     "data": {
      "text/plain": [
       "'Muhammad Furqan\\nMuhammad Feroz'"
      ]
     },
     "execution_count": 26,
     "metadata": {},
     "output_type": "execute_result"
    }
   ],
   "source": [
    "variable1+\"\\n\"+variable2"
   ]
  },
  {
   "cell_type": "code",
   "execution_count": 27,
   "id": "d5614ec5",
   "metadata": {},
   "outputs": [
    {
     "name": "stdout",
     "output_type": "stream",
     "text": [
      "Muhammad Furqan\n",
      "Muhammad Feroz\n"
     ]
    }
   ],
   "source": [
    "print(variable1+\"\\n\"+variable2)"
   ]
  },
  {
   "cell_type": "code",
   "execution_count": 28,
   "id": "e400e3cf",
   "metadata": {},
   "outputs": [
    {
     "name": "stdout",
     "output_type": "stream",
     "text": [
      "15\n"
     ]
    }
   ],
   "source": [
    "print(len(variable1))"
   ]
  },
  {
   "cell_type": "code",
   "execution_count": 30,
   "id": "f08aa065",
   "metadata": {},
   "outputs": [
    {
     "name": "stdout",
     "output_type": "stream",
     "text": [
      "My name is Muhammad Furqan and my father's name is Muhammad Feroz\n"
     ]
    }
   ],
   "source": [
    "Name = \"Muhammad Furqan\"\n",
    "FatherName = \"Muhammad Feroz\"\n",
    "description = \"My name is {} and my father's name is {}\".format(Name,FatherName)\n",
    "#placeholder\n",
    "print(description)"
   ]
  },
  {
   "cell_type": "code",
   "execution_count": 33,
   "id": "c1322fb9",
   "metadata": {},
   "outputs": [
    {
     "name": "stdout",
     "output_type": "stream",
     "text": [
      "My name is Muhammad Furqan and my Father name is Muhammad Feroz\n"
     ]
    }
   ],
   "source": [
    "description = \"My name is \"+Name+\" and my Father name is \"+FatherName\n",
    "print(description)"
   ]
  },
  {
   "cell_type": "code",
   "execution_count": 36,
   "id": "66bf8f48",
   "metadata": {},
   "outputs": [
    {
     "name": "stdout",
     "output_type": "stream",
     "text": [
      "My name is Muhammad Furqan and my father name is Muhammad Feroz\n"
     ]
    }
   ],
   "source": [
    "description = f\"My name is {Name} and my father name is {FatherName}\"\n",
    "print(description)"
   ]
  },
  {
   "cell_type": "code",
   "execution_count": 38,
   "id": "53459e4b",
   "metadata": {},
   "outputs": [],
   "source": [
    "Roll = 15987\n",
    "Course = \"DA\""
   ]
  },
  {
   "cell_type": "code",
   "execution_count": 42,
   "id": "7f02d6be",
   "metadata": {},
   "outputs": [
    {
     "name": "stdout",
     "output_type": "stream",
     "text": [
      "\n",
      "Name:           Muhammad Furqan\n",
      "Father Name:    Muhammad Feroz\n",
      "Roll No.:       15987\n",
      "Course:         DA\n"
     ]
    }
   ],
   "source": [
    "Card = f\"\"\"\n",
    "Name:           {Name}\n",
    "Father Name:    {FatherName}\n",
    "Roll No.:       {Roll}\n",
    "Course:         {Course}\"\"\"\n",
    "print(Card)"
   ]
  },
  {
   "cell_type": "code",
   "execution_count": null,
   "id": "71b2ef6e",
   "metadata": {},
   "outputs": [],
   "source": []
  }
 ],
 "metadata": {
  "kernelspec": {
   "display_name": "Python 3 (ipykernel)",
   "language": "python",
   "name": "python3"
  },
  "language_info": {
   "codemirror_mode": {
    "name": "ipython",
    "version": 3
   },
   "file_extension": ".py",
   "mimetype": "text/x-python",
   "name": "python",
   "nbconvert_exporter": "python",
   "pygments_lexer": "ipython3",
   "version": "3.9.7"
  }
 },
 "nbformat": 4,
 "nbformat_minor": 5
}
