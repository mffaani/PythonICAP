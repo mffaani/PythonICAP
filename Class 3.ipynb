{
 "cells": [
  {
   "cell_type": "code",
   "execution_count": 2,
   "id": "1490b949",
   "metadata": {},
   "outputs": [
    {
     "name": "stdout",
     "output_type": "stream",
     "text": [
      "<class 'list'>\n"
     ]
    }
   ],
   "source": [
    "#index left to right    0       1       2          3\n",
    "             names = [\"Qasim\",\"Nasir\",\"Imran\", \"Arsalan\" ]\n",
    "#index right to left    -4      -3       -2       -1\n",
    "print(type(names))"
   ]
  },
  {
   "cell_type": "code",
   "execution_count": 3,
   "id": "27a9cfc5",
   "metadata": {},
   "outputs": [
    {
     "data": {
      "text/plain": [
       "'Imran'"
      ]
     },
     "execution_count": 3,
     "metadata": {},
     "output_type": "execute_result"
    }
   ],
   "source": [
    "names[2]"
   ]
  },
  {
   "cell_type": "code",
   "execution_count": 5,
   "id": "e1718210",
   "metadata": {},
   "outputs": [
    {
     "name": "stdout",
     "output_type": "stream",
     "text": [
      "<class 'str'>\n"
     ]
    }
   ],
   "source": [
    "print(type(names[2]))"
   ]
  },
  {
   "cell_type": "code",
   "execution_count": 6,
   "id": "180df427",
   "metadata": {},
   "outputs": [
    {
     "data": {
      "text/plain": [
       "'Nasir'"
      ]
     },
     "execution_count": 6,
     "metadata": {},
     "output_type": "execute_result"
    }
   ],
   "source": [
    "\n",
    "names[-3]"
   ]
  },
  {
   "cell_type": "code",
   "execution_count": 7,
   "id": "e7e91f42",
   "metadata": {},
   "outputs": [
    {
     "name": "stdout",
     "output_type": "stream",
     "text": [
      "Nasir\n"
     ]
    }
   ],
   "source": [
    "print(names[-3])"
   ]
  },
  {
   "cell_type": "code",
   "execution_count": 8,
   "id": "b857d609",
   "metadata": {},
   "outputs": [
    {
     "data": {
      "text/plain": [
       "['Qasim', 'Nasir', 'Ajlal', 'Arsalan']"
      ]
     },
     "execution_count": 8,
     "metadata": {},
     "output_type": "execute_result"
    }
   ],
   "source": [
    "#change or update list\n",
    "names[2]=\"Ajlal\" #replace/update value at index 2\n",
    "\n",
    "names"
   ]
  },
  {
   "cell_type": "code",
   "execution_count": 9,
   "id": "d7feb4ef",
   "metadata": {},
   "outputs": [
    {
     "name": "stdout",
     "output_type": "stream",
     "text": [
      "['Qasim', 'Nasir', 'Ajlal', 'Arsalan']\n"
     ]
    }
   ],
   "source": [
    "print(names)"
   ]
  },
  {
   "cell_type": "code",
   "execution_count": 10,
   "id": "60d6ef94",
   "metadata": {},
   "outputs": [
    {
     "name": "stdout",
     "output_type": "stream",
     "text": [
      "Ajlal\n"
     ]
    }
   ],
   "source": [
    "print(names[2])"
   ]
  },
  {
   "cell_type": "code",
   "execution_count": 11,
   "id": "8027c000",
   "metadata": {},
   "outputs": [
    {
     "name": "stdout",
     "output_type": "stream",
     "text": [
      "['Qasim', 'Nasir']\n"
     ]
    }
   ],
   "source": [
    "#slicing\n",
    "#start (includes start value)\n",
    "#end (excludes start value)\n",
    "#step (sequence interval)\n",
    "#slicing runs from left to right\n",
    "\n",
    "#list[start:end:step]\n",
    "\n",
    "print(names[0:2]) #positive indexing"
   ]
  },
  {
   "cell_type": "code",
   "execution_count": 12,
   "id": "8b20348b",
   "metadata": {},
   "outputs": [
    {
     "name": "stdout",
     "output_type": "stream",
     "text": [
      "['Qasim', 'Nasir']\n"
     ]
    }
   ],
   "source": [
    "print(names[-4:-2]) #negative indexing (slicing runs from left to right)"
   ]
  },
  {
   "cell_type": "code",
   "execution_count": 14,
   "id": "4a0be129",
   "metadata": {},
   "outputs": [
    {
     "name": "stdout",
     "output_type": "stream",
     "text": [
      "['Nasir', 'Ajlal', 'Arsalan']\n"
     ]
    }
   ],
   "source": [
    "print(names[1::]) #in case of blank value, it automatically fills in value \n",
    "#(start value will be 0 index, end value will be last value of list, step will be 1)"
   ]
  },
  {
   "cell_type": "code",
   "execution_count": 17,
   "id": "1f9c5348",
   "metadata": {},
   "outputs": [
    {
     "name": "stdout",
     "output_type": "stream",
     "text": [
      "['Qasim', 'Nasir', 'Ajlal', 'Arsalan']\n"
     ]
    }
   ],
   "source": [
    "print(names[:6])"
   ]
  },
  {
   "cell_type": "code",
   "execution_count": 18,
   "id": "b8313f4d",
   "metadata": {},
   "outputs": [
    {
     "name": "stdout",
     "output_type": "stream",
     "text": [
      "['Arsalan', 'Ajlal', 'Nasir', 'Qasim']\n"
     ]
    }
   ],
   "source": [
    "print(names[::-1]) #list in reverse order"
   ]
  },
  {
   "cell_type": "code",
   "execution_count": 19,
   "id": "151165b0",
   "metadata": {},
   "outputs": [
    {
     "name": "stdout",
     "output_type": "stream",
     "text": [
      "['Arsalan', 'Nasir']\n"
     ]
    }
   ],
   "source": [
    "print(names[::-2])"
   ]
  },
  {
   "cell_type": "code",
   "execution_count": 20,
   "id": "e66c7e24",
   "metadata": {},
   "outputs": [
    {
     "data": {
      "text/plain": [
       "range(2, 21, 2)"
      ]
     },
     "execution_count": 20,
     "metadata": {},
     "output_type": "execute_result"
    }
   ],
   "source": [
    "range(2,21,2) #generator function"
   ]
  },
  {
   "cell_type": "code",
   "execution_count": 21,
   "id": "4f2a802a",
   "metadata": {},
   "outputs": [
    {
     "data": {
      "text/plain": [
       "[2, 4, 6, 8, 10, 12, 14, 16, 18, 20]"
      ]
     },
     "execution_count": 21,
     "metadata": {},
     "output_type": "execute_result"
    }
   ],
   "source": [
    "list(range(2,21,2)) #list is an iteration function"
   ]
  },
  {
   "cell_type": "code",
   "execution_count": 22,
   "id": "e21ef2dd",
   "metadata": {},
   "outputs": [
    {
     "data": {
      "text/plain": [
       "[7, 14, 21, 28, 35, 42, 49, 56, 63, 70]"
      ]
     },
     "execution_count": 22,
     "metadata": {},
     "output_type": "execute_result"
    }
   ],
   "source": [
    "list(range(7,71,7))"
   ]
  },
  {
   "cell_type": "code",
   "execution_count": 23,
   "id": "09808a45",
   "metadata": {},
   "outputs": [
    {
     "name": "stdout",
     "output_type": "stream",
     "text": [
      "<class 'list'>\n"
     ]
    }
   ],
   "source": [
    "print(type(names))"
   ]
  },
  {
   "cell_type": "code",
   "execution_count": 24,
   "id": "ca518f13",
   "metadata": {},
   "outputs": [
    {
     "data": {
      "text/plain": [
       "['__add__',\n",
       " '__class__',\n",
       " '__class_getitem__',\n",
       " '__contains__',\n",
       " '__delattr__',\n",
       " '__delitem__',\n",
       " '__dir__',\n",
       " '__doc__',\n",
       " '__eq__',\n",
       " '__format__',\n",
       " '__ge__',\n",
       " '__getattribute__',\n",
       " '__getitem__',\n",
       " '__gt__',\n",
       " '__hash__',\n",
       " '__iadd__',\n",
       " '__imul__',\n",
       " '__init__',\n",
       " '__init_subclass__',\n",
       " '__iter__',\n",
       " '__le__',\n",
       " '__len__',\n",
       " '__lt__',\n",
       " '__mul__',\n",
       " '__ne__',\n",
       " '__new__',\n",
       " '__reduce__',\n",
       " '__reduce_ex__',\n",
       " '__repr__',\n",
       " '__reversed__',\n",
       " '__rmul__',\n",
       " '__setattr__',\n",
       " '__setitem__',\n",
       " '__sizeof__',\n",
       " '__str__',\n",
       " '__subclasshook__',\n",
       " 'append',\n",
       " 'clear',\n",
       " 'copy',\n",
       " 'count',\n",
       " 'extend',\n",
       " 'index',\n",
       " 'insert',\n",
       " 'pop',\n",
       " 'remove',\n",
       " 'reverse',\n",
       " 'sort']"
      ]
     },
     "execution_count": 24,
     "metadata": {},
     "output_type": "execute_result"
    }
   ],
   "source": [
    "dir(names) #without double underscore are methods or actions"
   ]
  },
  {
   "cell_type": "code",
   "execution_count": 27,
   "id": "85b86c72",
   "metadata": {},
   "outputs": [
    {
     "name": "stdout",
     "output_type": "stream",
     "text": [
      "['Qasim', 'Nasir', 'Ajlal', 'Arsalan', 'Noman', 'Noman']\n"
     ]
    }
   ],
   "source": [
    "names.append(\"Noman\") #adds items into list\n",
    "print(names)"
   ]
  },
  {
   "cell_type": "code",
   "execution_count": 28,
   "id": "80d95c86",
   "metadata": {},
   "outputs": [
    {
     "name": "stdout",
     "output_type": "stream",
     "text": [
      "[]\n"
     ]
    }
   ],
   "source": [
    "names.clear() #clears the items from list\n",
    "print(names)"
   ]
  },
  {
   "cell_type": "code",
   "execution_count": 38,
   "id": "5558f9d7",
   "metadata": {},
   "outputs": [
    {
     "name": "stdout",
     "output_type": "stream",
     "text": [
      "['Asif', 'Nasir', 'Imran', 'Arsalan']\n",
      "['Asif', 'Nasir', 'Imran', 'Arsalan']\n"
     ]
    }
   ],
   "source": [
    "names = [\"Qasim\",\"Nasir\",\"Imran\", \"Arsalan\" ]\n",
    "names1=names\n",
    "\n",
    "names1[0] = \"Asif\"\n",
    "print(names)\n",
    "print(names1)"
   ]
  },
  {
   "cell_type": "code",
   "execution_count": 39,
   "id": "bbd14608",
   "metadata": {},
   "outputs": [
    {
     "name": "stdout",
     "output_type": "stream",
     "text": [
      "['Qasim', 'Nasir', 'Imran', 'Arsalan']\n",
      "['Asif', 'Nasir', 'Imran', 'Arsalan']\n"
     ]
    }
   ],
   "source": [
    "names = [\"Qasim\",\"Nasir\",\"Imran\", \"Arsalan\" ]\n",
    "names1 = names.copy()\n",
    "\n",
    "names1[0] = \"Asif\"\n",
    "print(names)\n",
    "print(names1)"
   ]
  },
  {
   "cell_type": "code",
   "execution_count": 31,
   "id": "de7cabe0",
   "metadata": {},
   "outputs": [
    {
     "data": {
      "text/plain": [
       "0"
      ]
     },
     "execution_count": 31,
     "metadata": {},
     "output_type": "execute_result"
    }
   ],
   "source": [
    "names.count(\"Qasim\")"
   ]
  },
  {
   "cell_type": "code",
   "execution_count": 36,
   "id": "f2026f13",
   "metadata": {},
   "outputs": [
    {
     "name": "stdout",
     "output_type": "stream",
     "text": [
      "['Qasim', 'Nasir', ['Noman', 'Naveed']]\n"
     ]
    }
   ],
   "source": [
    "l1 = [\"Qasim\",\"Nasir\"]\n",
    "l2 = [\"Noman\",\"Naveed\"]\n",
    "l1.append(l2) #append = results in two or more separate lists\n",
    "print(l1)"
   ]
  },
  {
   "cell_type": "code",
   "execution_count": 37,
   "id": "b77d659a",
   "metadata": {},
   "outputs": [
    {
     "name": "stdout",
     "output_type": "stream",
     "text": [
      "['Qasim', 'Nasir', 'Noman', 'Naveed']\n"
     ]
    }
   ],
   "source": [
    "l1 = [\"Qasim\",\"Nasir\"]\n",
    "l2 = [\"Noman\",\"Naveed\"]\n",
    "l1.extend(l2) #extend = results in one single lists\n",
    "print(l1)"
   ]
  },
  {
   "cell_type": "code",
   "execution_count": 40,
   "id": "242364c7",
   "metadata": {},
   "outputs": [
    {
     "name": "stdout",
     "output_type": "stream",
     "text": [
      "['Qasim', 'Nasir', ['Noman', 'Naveed']]\n",
      "['Noman', 'Naveed']\n",
      "Noman\n"
     ]
    }
   ],
   "source": [
    "l1 = [\"Qasim\",\"Nasir\"]\n",
    "l2 = [\"Noman\",\"Naveed\"]\n",
    "l1.append(l2) \n",
    "print(l1)\n",
    "print(l1[-1])\n",
    "print(l1[-1][0])"
   ]
  },
  {
   "cell_type": "code",
   "execution_count": 41,
   "id": "a88d5040",
   "metadata": {},
   "outputs": [
    {
     "data": {
      "text/plain": [
       "['Qasim', 'Noman', 'Nasir', 'Imran', 'Arsalan']"
      ]
     },
     "execution_count": 41,
     "metadata": {},
     "output_type": "execute_result"
    }
   ],
   "source": [
    "#insert\n",
    "names.insert(1,\"Noman\") #insert noman at index no. 1\n",
    "names"
   ]
  },
  {
   "cell_type": "code",
   "execution_count": 42,
   "id": "3c2e4fbb",
   "metadata": {},
   "outputs": [
    {
     "data": {
      "text/plain": [
       "3"
      ]
     },
     "execution_count": 42,
     "metadata": {},
     "output_type": "execute_result"
    }
   ],
   "source": [
    "names.index(\"Imran\") #returns index number or position of \"Imran\""
   ]
  },
  {
   "cell_type": "code",
   "execution_count": 59,
   "id": "abb967ba",
   "metadata": {},
   "outputs": [
    {
     "data": {
      "text/plain": [
       "[]"
      ]
     },
     "execution_count": 59,
     "metadata": {},
     "output_type": "execute_result"
    }
   ],
   "source": [
    "#Create Guest List\n",
    "#if name already exists then give index\n",
    "\n",
    "guests = []\n",
    "guests"
   ]
  },
  {
   "cell_type": "code",
   "execution_count": 68,
   "id": "4bde5dc8",
   "metadata": {},
   "outputs": [
    {
     "name": "stdout",
     "output_type": "stream",
     "text": [
      "Enter Guest Namekashif\n",
      "['Furqan', 'noman', 'Kashif', 'salman', 'kashif']\n"
     ]
    }
   ],
   "source": [
    "guest_name = input(\"Enter Guest Name\")\n",
    "if guest_name in guests:\n",
    "    print(\"Already Added\")\n",
    "else:\n",
    "        guests.append(guest_name)\n",
    "print(guests)"
   ]
  },
  {
   "cell_type": "code",
   "execution_count": 64,
   "id": "90f74a27",
   "metadata": {},
   "outputs": [
    {
     "data": {
      "text/plain": [
       "[]"
      ]
     },
     "execution_count": 64,
     "metadata": {},
     "output_type": "execute_result"
    }
   ],
   "source": [
    "guests1 = []\n",
    "guests1"
   ]
  },
  {
   "cell_type": "code",
   "execution_count": 70,
   "id": "9972df15",
   "metadata": {},
   "outputs": [
    {
     "name": "stdout",
     "output_type": "stream",
     "text": [
      "Enter Guest NameHibban\n",
      "['salman', 'h', 'a', 'm', 'z', 'a', 's', 'h', 'a', 'h', 'e', 'e', 'r', 'Hibban']\n"
     ]
    }
   ],
   "source": [
    "guest_name1 = input(\"Enter Guest Name\")\n",
    "if guest_name1 in guests1:\n",
    "    print(\"Already Added\")\n",
    "else:\n",
    "        guests1.extend([guest_name1])\n",
    "print(guests1)"
   ]
  },
  {
   "cell_type": "code",
   "execution_count": 71,
   "id": "a8a54eb9",
   "metadata": {},
   "outputs": [],
   "source": [
    "#delete value\n",
    "\n",
    "del guests[2] #deletes kashif"
   ]
  },
  {
   "cell_type": "code",
   "execution_count": 72,
   "id": "79e72491",
   "metadata": {},
   "outputs": [
    {
     "data": {
      "text/plain": [
       "['Furqan', 'noman', 'salman', 'kashif']"
      ]
     },
     "execution_count": 72,
     "metadata": {},
     "output_type": "execute_result"
    }
   ],
   "source": [
    "guests"
   ]
  },
  {
   "cell_type": "code",
   "execution_count": 74,
   "id": "485f983e",
   "metadata": {},
   "outputs": [
    {
     "data": {
      "text/plain": [
       "[11, 22, 33, 'Nasir', False, [99, 88, 66]]"
      ]
     },
     "execution_count": 74,
     "metadata": {},
     "output_type": "execute_result"
    }
   ],
   "source": [
    "alist = [11,22,33,\"Nasir\",False,[99,88,66]]\n",
    "alist"
   ]
  },
  {
   "cell_type": "code",
   "execution_count": 75,
   "id": "c73f09c8",
   "metadata": {},
   "outputs": [],
   "source": [
    "newList = [\"Nasir\", \"Asad\",\"Ali\",\"Kashan\"]"
   ]
  },
  {
   "cell_type": "code",
   "execution_count": 79,
   "id": "77b40b39",
   "metadata": {},
   "outputs": [
    {
     "name": "stdout",
     "output_type": "stream",
     "text": [
      "Welcome Mr. Nasir\n",
      "Welcome Mr. Asad\n",
      "Welcome Mr. Ali\n",
      "Welcome Mr. Kashan\n"
     ]
    }
   ],
   "source": [
    "#Welcome each guest in newList\n",
    "\n",
    "for guest in newList:\n",
    "    print(f\"Welcome Mr. {guest}\")"
   ]
  },
  {
   "cell_type": "code",
   "execution_count": 80,
   "id": "0f5d3733",
   "metadata": {},
   "outputs": [
    {
     "data": {
      "text/plain": [
       "[25000, 30000, 35000, 40000, 45000]"
      ]
     },
     "execution_count": 80,
     "metadata": {},
     "output_type": "execute_result"
    }
   ],
   "source": [
    "Salary = [25000,30000,35000,40000,45000]\n",
    "Salary"
   ]
  },
  {
   "cell_type": "code",
   "execution_count": 88,
   "id": "229ae58f",
   "metadata": {
    "scrolled": true
   },
   "outputs": [
    {
     "name": "stdout",
     "output_type": "stream",
     "text": [
      "27500.000000000004\n",
      "33000.0\n",
      "38500.0\n",
      "44000.0\n",
      "49500.00000000001\n"
     ]
    }
   ],
   "source": [
    "for IncreasedSalary in Salary:\n",
    "    print(f\"{IncreasedSalary*1.1}\")"
   ]
  },
  {
   "cell_type": "code",
   "execution_count": 90,
   "id": "7083fa25",
   "metadata": {},
   "outputs": [
    {
     "data": {
      "text/plain": [
       "[25000, 30000, 35000, 40000, 45000]"
      ]
     },
     "execution_count": 90,
     "metadata": {},
     "output_type": "execute_result"
    }
   ],
   "source": [
    "Salary = [25000,30000,35000,40000,45000]\n",
    "Salary"
   ]
  },
  {
   "cell_type": "code",
   "execution_count": 92,
   "id": "e82e5f4f",
   "metadata": {},
   "outputs": [
    {
     "ename": "TypeError",
     "evalue": "can't multiply sequence by non-int of type 'float'",
     "output_type": "error",
     "traceback": [
      "\u001b[1;31m---------------------------------------------------------------------------\u001b[0m",
      "\u001b[1;31mTypeError\u001b[0m                                 Traceback (most recent call last)",
      "\u001b[1;32m~\\AppData\\Local\\Temp/ipykernel_13412/3035291605.py\u001b[0m in \u001b[0;36m<module>\u001b[1;34m\u001b[0m\n\u001b[0;32m      1\u001b[0m \u001b[1;32mfor\u001b[0m \u001b[0mIncreasedSalary\u001b[0m \u001b[1;32min\u001b[0m \u001b[0mSalary\u001b[0m\u001b[1;33m:\u001b[0m\u001b[1;33m\u001b[0m\u001b[1;33m\u001b[0m\u001b[0m\n\u001b[1;32m----> 2\u001b[1;33m     \u001b[0mIncreasedSalary\u001b[0m \u001b[1;33m=\u001b[0m \u001b[0mSalary\u001b[0m\u001b[1;33m+\u001b[0m\u001b[0mSalary\u001b[0m\u001b[1;33m*\u001b[0m\u001b[1;36m0.1\u001b[0m\u001b[1;33m\u001b[0m\u001b[1;33m\u001b[0m\u001b[0m\n\u001b[0m\u001b[0;32m      3\u001b[0m     \u001b[0mIncreasedSalary\u001b[0m\u001b[1;33m.\u001b[0m\u001b[0mappend\u001b[0m\u001b[1;33m(\u001b[0m\u001b[0mSalary\u001b[0m\u001b[1;33m)\u001b[0m\u001b[1;33m\u001b[0m\u001b[1;33m\u001b[0m\u001b[0m\n\u001b[0;32m      4\u001b[0m \u001b[1;33m\u001b[0m\u001b[0m\n\u001b[0;32m      5\u001b[0m     \u001b[0mprint\u001b[0m\u001b[1;33m(\u001b[0m\u001b[0mSalary\u001b[0m\u001b[1;33m)\u001b[0m\u001b[1;33m\u001b[0m\u001b[1;33m\u001b[0m\u001b[0m\n",
      "\u001b[1;31mTypeError\u001b[0m: can't multiply sequence by non-int of type 'float'"
     ]
    }
   ],
   "source": [
    "for IncreasedSalary in Salary:\n",
    "    IncreasedSalary = Salary+Salary*0.1\n",
    "    IncreasedSalary.append(Salary)\n",
    "    \n",
    "    print(Salary)\n",
    "    print(IncreasedSalary)"
   ]
  },
  {
   "cell_type": "code",
   "execution_count": 100,
   "id": "9a092135",
   "metadata": {},
   "outputs": [
    {
     "name": "stdout",
     "output_type": "stream",
     "text": [
      "3\n",
      "5\n",
      "7\n",
      "9\n"
     ]
    }
   ],
   "source": [
    "for num in range(3,10,2):\n",
    "    print(num)"
   ]
  },
  {
   "cell_type": "code",
   "execution_count": 101,
   "id": "847d2e36",
   "metadata": {},
   "outputs": [
    {
     "name": "stdout",
     "output_type": "stream",
     "text": [
      "0\n",
      "1\n",
      "2\n",
      "3\n",
      "4\n",
      "5\n",
      "6\n",
      "7\n",
      "8\n",
      "9\n"
     ]
    }
   ],
   "source": [
    "#breaks loop\n",
    "for a in range(100):\n",
    "    if a == 10:\n",
    "        break\n",
    "    print(a)"
   ]
  },
  {
   "cell_type": "code",
   "execution_count": 103,
   "id": "b9ce74f2",
   "metadata": {},
   "outputs": [
    {
     "name": "stdout",
     "output_type": "stream",
     "text": [
      "0\n",
      "1\n",
      "2\n",
      "3\n",
      "5\n",
      "6\n",
      "7\n",
      "8\n",
      "9\n"
     ]
    }
   ],
   "source": [
    "#Continue skips the given value and then continues the loop\n",
    "for a in range(10):\n",
    "    if a == 4:\n",
    "        continue\n",
    "    print(a)"
   ]
  },
  {
   "cell_type": "code",
   "execution_count": 104,
   "id": "fa494f2b",
   "metadata": {},
   "outputs": [],
   "source": [
    "guest = []"
   ]
  },
  {
   "cell_type": "code",
   "execution_count": 105,
   "id": "1ec2b418",
   "metadata": {},
   "outputs": [
    {
     "name": "stdout",
     "output_type": "stream",
     "text": [
      "Enter Guest NameFurqan\n",
      "Already Added\n",
      "Enter Guest Namehassan\n",
      "Enter Guest Nameshahzad\n",
      "Enter Guest Nameimran\n",
      "Enter Guest Namewaqar\n",
      "Enter Guest NameFurqan\n",
      "Already Added\n",
      "Enter Guest Namesalman\n",
      "Already Added\n",
      "Enter Guest Namehamza\n",
      "Enter Guest Nameislam\n",
      "Enter Guest Namenoman\n",
      "Already Added\n",
      "['Furqan', 'noman', 'salman', 'kashif', 'hassan', 'shahzad', 'imran', 'waqar', 'hamza', 'islam']\n"
     ]
    }
   ],
   "source": [
    "for a in range(10):\n",
    "    \n",
    "    guest_name = input(\"Enter Guest Name\")\n",
    "    if guest_name in guests:\n",
    "        print(\"Already Added\")\n",
    "    else:\n",
    "        guests.append(guest_name)\n",
    "print(guests)"
   ]
  },
  {
   "cell_type": "code",
   "execution_count": 106,
   "id": "dc51ab88",
   "metadata": {},
   "outputs": [],
   "source": [
    "guest2 = []"
   ]
  },
  {
   "cell_type": "code",
   "execution_count": 107,
   "id": "cc046c8c",
   "metadata": {},
   "outputs": [
    {
     "name": "stdout",
     "output_type": "stream",
     "text": [
      "Enter Guest Namehassam\n",
      "Enter Guest Namesalman\n",
      "Enter Guest Nameehsam\n",
      "Enter Guest Namehassam\n",
      "Already Added\n",
      "Enter Guest Namekashif\n",
      "Enter Guest Namefurqan\n",
      "Enter Guest Namekashan\n",
      "Enter Guest Namehamza\n",
      "Enter Guest Namejasim\n",
      "Enter Guest Namehashim\n",
      "['hassam', 'salman', 'ehsam', 'kashif', 'furqan', 'kashan', 'hamza', 'jasim', 'hashim']\n"
     ]
    }
   ],
   "source": [
    "for a in range(10):\n",
    "    \n",
    "    guest_name2 = input(\"Enter Guest Name\")\n",
    "    if guest_name2 in guest2:\n",
    "        print(\"Already Added\")\n",
    "    else:\n",
    "        guest2.append(guest_name2)\n",
    "print(guest2)"
   ]
  },
  {
   "cell_type": "code",
   "execution_count": 109,
   "id": "e50c3db0",
   "metadata": {},
   "outputs": [
    {
     "name": "stdout",
     "output_type": "stream",
     "text": [
      "Enter Guest Name ab\n",
      "Enter Guest Name bc\n",
      "Enter Guest Name cd\n",
      "Enter Guest Name de\n",
      "Enter Guest Name ef\n",
      "['ab', 'bc', 'cd', 'de', 'ef']\n"
     ]
    }
   ],
   "source": [
    "guests = []\n",
    "counter = 0\n",
    "while counter<5:\n",
    "    guest_name = input(\"Enter Guest Name \")\n",
    "    if guest_name in guests:\n",
    "        print(\"Already Added\")\n",
    "    else:\n",
    "        guests.append(guest_name)\n",
    "    counter +=1\n",
    "    \n",
    "print(guests)"
   ]
  },
  {
   "cell_type": "code",
   "execution_count": null,
   "id": "259276bd",
   "metadata": {},
   "outputs": [],
   "source": []
  }
 ],
 "metadata": {
  "kernelspec": {
   "display_name": "Python 3 (ipykernel)",
   "language": "python",
   "name": "python3"
  },
  "language_info": {
   "codemirror_mode": {
    "name": "ipython",
    "version": 3
   },
   "file_extension": ".py",
   "mimetype": "text/x-python",
   "name": "python",
   "nbconvert_exporter": "python",
   "pygments_lexer": "ipython3",
   "version": "3.9.7"
  }
 },
 "nbformat": 4,
 "nbformat_minor": 5
}
