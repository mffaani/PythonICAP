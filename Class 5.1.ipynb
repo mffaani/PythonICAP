{
 "cells": [
  {
   "cell_type": "code",
   "execution_count": 1,
   "id": "df1c41e4",
   "metadata": {},
   "outputs": [],
   "source": [
    "btuple = (1,5,8,9,4)"
   ]
  },
  {
   "cell_type": "code",
   "execution_count": 2,
   "id": "04a9d333",
   "metadata": {},
   "outputs": [
    {
     "name": "stdout",
     "output_type": "stream",
     "text": [
      "(1, 5, 8, 9, 4)\n"
     ]
    }
   ],
   "source": [
    "print(btuple)"
   ]
  },
  {
   "cell_type": "markdown",
   "id": "bd6bf847",
   "metadata": {},
   "source": [
    "# a list in a dictionary"
   ]
  },
  {
   "cell_type": "code",
   "execution_count": 3,
   "id": "2b1ddfa2",
   "metadata": {},
   "outputs": [],
   "source": [
    "python_class = {\"students\": [\"Nasir\", \"Asad\", \"Ahmed\", \"Ali\", \"Qasim\"],\n",
    "                \"Courses\":[\"Pythone\", \"DA\", \"DS\", \"Python\", \"DA\"],\n",
    "                \"Day\":[\"Sat\",\"Sun\",\"Sat\", \"Sun\",\"Sat\"]}"
   ]
  },
  {
   "cell_type": "code",
   "execution_count": 4,
   "id": "b1493a2d",
   "metadata": {},
   "outputs": [
    {
     "name": "stdout",
     "output_type": "stream",
     "text": [
      "{'students': ['Nasir', 'Asad', 'Ahmed', 'Ali', 'Qasim'], 'Courses': ['Pythone', 'DA', 'DS', 'Python', 'DA'], 'Day': ['Sat', 'Sun', 'Sat', 'Sun', 'Sat']}\n"
     ]
    }
   ],
   "source": [
    "print(python_class)"
   ]
  },
  {
   "cell_type": "code",
   "execution_count": 5,
   "id": "33735e24",
   "metadata": {},
   "outputs": [],
   "source": [
    "import pandas"
   ]
  },
  {
   "cell_type": "code",
   "execution_count": 6,
   "id": "0ee880fa",
   "metadata": {},
   "outputs": [
    {
     "data": {
      "text/html": [
       "<div>\n",
       "<style scoped>\n",
       "    .dataframe tbody tr th:only-of-type {\n",
       "        vertical-align: middle;\n",
       "    }\n",
       "\n",
       "    .dataframe tbody tr th {\n",
       "        vertical-align: top;\n",
       "    }\n",
       "\n",
       "    .dataframe thead th {\n",
       "        text-align: right;\n",
       "    }\n",
       "</style>\n",
       "<table border=\"1\" class=\"dataframe\">\n",
       "  <thead>\n",
       "    <tr style=\"text-align: right;\">\n",
       "      <th></th>\n",
       "      <th>students</th>\n",
       "      <th>Courses</th>\n",
       "      <th>Day</th>\n",
       "    </tr>\n",
       "  </thead>\n",
       "  <tbody>\n",
       "    <tr>\n",
       "      <th>0</th>\n",
       "      <td>Nasir</td>\n",
       "      <td>Pythone</td>\n",
       "      <td>Sat</td>\n",
       "    </tr>\n",
       "    <tr>\n",
       "      <th>1</th>\n",
       "      <td>Asad</td>\n",
       "      <td>DA</td>\n",
       "      <td>Sun</td>\n",
       "    </tr>\n",
       "    <tr>\n",
       "      <th>2</th>\n",
       "      <td>Ahmed</td>\n",
       "      <td>DS</td>\n",
       "      <td>Sat</td>\n",
       "    </tr>\n",
       "    <tr>\n",
       "      <th>3</th>\n",
       "      <td>Ali</td>\n",
       "      <td>Python</td>\n",
       "      <td>Sun</td>\n",
       "    </tr>\n",
       "    <tr>\n",
       "      <th>4</th>\n",
       "      <td>Qasim</td>\n",
       "      <td>DA</td>\n",
       "      <td>Sat</td>\n",
       "    </tr>\n",
       "  </tbody>\n",
       "</table>\n",
       "</div>"
      ],
      "text/plain": [
       "  students  Courses  Day\n",
       "0    Nasir  Pythone  Sat\n",
       "1     Asad       DA  Sun\n",
       "2    Ahmed       DS  Sat\n",
       "3      Ali   Python  Sun\n",
       "4    Qasim       DA  Sat"
      ]
     },
     "execution_count": 6,
     "metadata": {},
     "output_type": "execute_result"
    }
   ],
   "source": [
    "pandas.DataFrame(python_class)"
   ]
  },
  {
   "cell_type": "code",
   "execution_count": 7,
   "id": "10d52854",
   "metadata": {},
   "outputs": [
    {
     "data": {
      "text/plain": [
       "['Nasir', 'Asad', 'Ahmed', 'Ali', 'Qasim']"
      ]
     },
     "execution_count": 7,
     "metadata": {},
     "output_type": "execute_result"
    }
   ],
   "source": [
    "python_class[\"students\"]"
   ]
  },
  {
   "cell_type": "code",
   "execution_count": 10,
   "id": "73a04fb8",
   "metadata": {},
   "outputs": [
    {
     "data": {
      "text/plain": [
       "'Ali'"
      ]
     },
     "execution_count": 10,
     "metadata": {},
     "output_type": "execute_result"
    }
   ],
   "source": [
    "python_class[\"students\"][3]"
   ]
  },
  {
   "cell_type": "code",
   "execution_count": 13,
   "id": "a5c0e5fb",
   "metadata": {},
   "outputs": [],
   "source": [
    "python_class = {\"students\": [\"Nasir\", \"Asad\", \"Ahmed\", \"Ali\", \"Qasim\"],\n",
    "                \"Courses\":[\"Pythone\", \"DA\", \"DS\", \"Python\", \"DA\"],\n",
    "                \"Day\":[\"Sat\",\"Sun\",\"Sat\", \"Sun\",\"Sat\"],\n",
    "               \"ExamMarks\":{\"test1\":89,\"test2\":87,\"test3\":73}\n",
    "               }"
   ]
  },
  {
   "cell_type": "code",
   "execution_count": 14,
   "id": "31fdf3ba",
   "metadata": {},
   "outputs": [
    {
     "data": {
      "text/plain": [
       "{'test1': 89, 'test2': 87, 'test3': 73}"
      ]
     },
     "execution_count": 14,
     "metadata": {},
     "output_type": "execute_result"
    }
   ],
   "source": [
    "python_class[\"ExamMarks\"]"
   ]
  },
  {
   "cell_type": "code",
   "execution_count": 15,
   "id": "7914a62c",
   "metadata": {},
   "outputs": [
    {
     "data": {
      "text/plain": [
       "87"
      ]
     },
     "execution_count": 15,
     "metadata": {},
     "output_type": "execute_result"
    }
   ],
   "source": [
    "python_class[\"ExamMarks\"][\"test2\"]"
   ]
  },
  {
   "cell_type": "code",
   "execution_count": 16,
   "id": "644e7879",
   "metadata": {},
   "outputs": [
    {
     "data": {
      "text/plain": [
       "{'students': ['Nasir', 'Asad', 'Ahmed', 'Ali', 'Qasim'],\n",
       " 'Courses': ['Pythone', 'DA', 'DS', 'Python', 'DA'],\n",
       " 'Day': ['Sat', 'Sun', 'Sat', 'Sun', 'Sat'],\n",
       " 'ExamMarks': {'test1': 89, 'test2': 87, 'test3': 73}}"
      ]
     },
     "execution_count": 16,
     "metadata": {},
     "output_type": "execute_result"
    }
   ],
   "source": [
    "python_class"
   ]
  },
  {
   "cell_type": "code",
   "execution_count": 21,
   "id": "b6469b92",
   "metadata": {},
   "outputs": [],
   "source": [
    "python_class = {\"students\": [\"Nasir\", \"Asad\", \"Ahmed\", \"Ali\", \"Qasim\"],\n",
    "                \"Courses\":[\"Pythone\", \"DA\", \"DS\", \"Python\", \"DA\"],\n",
    "                \"Day\":[\"Sat\",\"Sun\",\"Sat\", \"Sun\",\"Sat\"],\n",
    "                \"ExamMarks\":[\n",
    "                            {\"test1\":89,\"test2\":87,\"test3\":73},\n",
    "                            {\"test1\":49,\"test2\":47,\"test3\":43},\n",
    "                            {\"test1\":59,\"test2\":57,\"test3\":53},\n",
    "                            {\"test1\":69,\"test2\":67,\"test3\":63},\n",
    "                            {\"test1\":39,\"test2\":37,\"test3\":33}\n",
    "                           ]\n",
    "}"
   ]
  },
  {
   "cell_type": "code",
   "execution_count": 22,
   "id": "cfa96951",
   "metadata": {},
   "outputs": [
    {
     "data": {
      "text/html": [
       "<div>\n",
       "<style scoped>\n",
       "    .dataframe tbody tr th:only-of-type {\n",
       "        vertical-align: middle;\n",
       "    }\n",
       "\n",
       "    .dataframe tbody tr th {\n",
       "        vertical-align: top;\n",
       "    }\n",
       "\n",
       "    .dataframe thead th {\n",
       "        text-align: right;\n",
       "    }\n",
       "</style>\n",
       "<table border=\"1\" class=\"dataframe\">\n",
       "  <thead>\n",
       "    <tr style=\"text-align: right;\">\n",
       "      <th></th>\n",
       "      <th>students</th>\n",
       "      <th>Courses</th>\n",
       "      <th>Day</th>\n",
       "      <th>ExamMarks</th>\n",
       "    </tr>\n",
       "  </thead>\n",
       "  <tbody>\n",
       "    <tr>\n",
       "      <th>0</th>\n",
       "      <td>Nasir</td>\n",
       "      <td>Pythone</td>\n",
       "      <td>Sat</td>\n",
       "      <td>{'test1': 89, 'test2': 87, 'test3': 73}</td>\n",
       "    </tr>\n",
       "    <tr>\n",
       "      <th>1</th>\n",
       "      <td>Asad</td>\n",
       "      <td>DA</td>\n",
       "      <td>Sun</td>\n",
       "      <td>{'test1': 49, 'test2': 47, 'test3': 43}</td>\n",
       "    </tr>\n",
       "    <tr>\n",
       "      <th>2</th>\n",
       "      <td>Ahmed</td>\n",
       "      <td>DS</td>\n",
       "      <td>Sat</td>\n",
       "      <td>{'test1': 59, 'test2': 57, 'test3': 53}</td>\n",
       "    </tr>\n",
       "    <tr>\n",
       "      <th>3</th>\n",
       "      <td>Ali</td>\n",
       "      <td>Python</td>\n",
       "      <td>Sun</td>\n",
       "      <td>{'test1': 69, 'test2': 67, 'test3': 63}</td>\n",
       "    </tr>\n",
       "    <tr>\n",
       "      <th>4</th>\n",
       "      <td>Qasim</td>\n",
       "      <td>DA</td>\n",
       "      <td>Sat</td>\n",
       "      <td>{'test1': 39, 'test2': 37, 'test3': 33}</td>\n",
       "    </tr>\n",
       "  </tbody>\n",
       "</table>\n",
       "</div>"
      ],
      "text/plain": [
       "  students  Courses  Day                                ExamMarks\n",
       "0    Nasir  Pythone  Sat  {'test1': 89, 'test2': 87, 'test3': 73}\n",
       "1     Asad       DA  Sun  {'test1': 49, 'test2': 47, 'test3': 43}\n",
       "2    Ahmed       DS  Sat  {'test1': 59, 'test2': 57, 'test3': 53}\n",
       "3      Ali   Python  Sun  {'test1': 69, 'test2': 67, 'test3': 63}\n",
       "4    Qasim       DA  Sat  {'test1': 39, 'test2': 37, 'test3': 33}"
      ]
     },
     "execution_count": 22,
     "metadata": {},
     "output_type": "execute_result"
    }
   ],
   "source": [
    "pandas.DataFrame(python_class)"
   ]
  },
  {
   "cell_type": "code",
   "execution_count": 25,
   "id": "8b1b7040",
   "metadata": {},
   "outputs": [
    {
     "data": {
      "text/plain": [
       "{'test1': 69, 'test2': 67, 'test3': 63}"
      ]
     },
     "execution_count": 25,
     "metadata": {},
     "output_type": "execute_result"
    }
   ],
   "source": [
    "python_class[\"ExamMarks\"][3]"
   ]
  },
  {
   "cell_type": "code",
   "execution_count": 31,
   "id": "18d0276b",
   "metadata": {},
   "outputs": [],
   "source": [
    "a_set = set([2,3,5,4,5,6,8,7,9,2,4,58,6,58,2,2,3,4,7])"
   ]
  },
  {
   "cell_type": "markdown",
   "id": "db0b5486",
   "metadata": {},
   "source": [
    "# Set"
   ]
  },
  {
   "cell_type": "code",
   "execution_count": 33,
   "id": "a5b781d9",
   "metadata": {},
   "outputs": [
    {
     "data": {
      "text/plain": [
       "dict"
      ]
     },
     "execution_count": 33,
     "metadata": {},
     "output_type": "execute_result"
    }
   ],
   "source": [
    "a={}\n",
    "type(a)"
   ]
  },
  {
   "cell_type": "code",
   "execution_count": 34,
   "id": "5adb5349",
   "metadata": {},
   "outputs": [
    {
     "data": {
      "text/plain": [
       "set"
      ]
     },
     "execution_count": 34,
     "metadata": {},
     "output_type": "execute_result"
    }
   ],
   "source": [
    "b={4}\n",
    "type(b)"
   ]
  },
  {
   "cell_type": "code",
   "execution_count": 32,
   "id": "0eb4cb4c",
   "metadata": {},
   "outputs": [
    {
     "name": "stdout",
     "output_type": "stream",
     "text": [
      "{2, 3, 4, 5, 6, 7, 8, 9, 58}\n"
     ]
    }
   ],
   "source": [
    "print(a_set)"
   ]
  },
  {
   "cell_type": "code",
   "execution_count": 30,
   "id": "9ed7ea09",
   "metadata": {},
   "outputs": [
    {
     "ename": "TypeError",
     "evalue": "set expected at most 1 argument, got 19",
     "output_type": "error",
     "traceback": [
      "\u001b[1;31m---------------------------------------------------------------------------\u001b[0m",
      "\u001b[1;31mTypeError\u001b[0m                                 Traceback (most recent call last)",
      "\u001b[1;32m~\\AppData\\Local\\Temp/ipykernel_13848/3331796677.py\u001b[0m in \u001b[0;36m<module>\u001b[1;34m\u001b[0m\n\u001b[1;32m----> 1\u001b[1;33m \u001b[0mset\u001b[0m\u001b[1;33m(\u001b[0m\u001b[1;36m2\u001b[0m\u001b[1;33m,\u001b[0m\u001b[1;36m3\u001b[0m\u001b[1;33m,\u001b[0m\u001b[1;36m5\u001b[0m\u001b[1;33m,\u001b[0m\u001b[1;36m4\u001b[0m\u001b[1;33m,\u001b[0m\u001b[1;36m5\u001b[0m\u001b[1;33m,\u001b[0m\u001b[1;36m6\u001b[0m\u001b[1;33m,\u001b[0m\u001b[1;36m8\u001b[0m\u001b[1;33m,\u001b[0m\u001b[1;36m7\u001b[0m\u001b[1;33m,\u001b[0m\u001b[1;36m9\u001b[0m\u001b[1;33m,\u001b[0m\u001b[1;36m2\u001b[0m\u001b[1;33m,\u001b[0m\u001b[1;36m4\u001b[0m\u001b[1;33m,\u001b[0m\u001b[1;36m58\u001b[0m\u001b[1;33m,\u001b[0m\u001b[1;36m6\u001b[0m\u001b[1;33m,\u001b[0m\u001b[1;36m58\u001b[0m\u001b[1;33m,\u001b[0m\u001b[1;36m2\u001b[0m\u001b[1;33m,\u001b[0m\u001b[1;36m2\u001b[0m\u001b[1;33m,\u001b[0m\u001b[1;36m3\u001b[0m\u001b[1;33m,\u001b[0m\u001b[1;36m4\u001b[0m\u001b[1;33m,\u001b[0m\u001b[1;36m7\u001b[0m\u001b[1;33m)\u001b[0m\u001b[1;33m\u001b[0m\u001b[1;33m\u001b[0m\u001b[0m\n\u001b[0m",
      "\u001b[1;31mTypeError\u001b[0m: set expected at most 1 argument, got 19"
     ]
    }
   ],
   "source": [
    "set(2,3,5,4,5,6,8,7,9,2,4,58,6,58,2,2,3,4,7)"
   ]
  },
  {
   "cell_type": "code",
   "execution_count": null,
   "id": "540d37af",
   "metadata": {},
   "outputs": [],
   "source": []
  }
 ],
 "metadata": {
  "kernelspec": {
   "display_name": "Python 3 (ipykernel)",
   "language": "python",
   "name": "python3"
  },
  "language_info": {
   "codemirror_mode": {
    "name": "ipython",
    "version": 3
   },
   "file_extension": ".py",
   "mimetype": "text/x-python",
   "name": "python",
   "nbconvert_exporter": "python",
   "pygments_lexer": "ipython3",
   "version": "3.9.7"
  }
 },
 "nbformat": 4,
 "nbformat_minor": 5
}
